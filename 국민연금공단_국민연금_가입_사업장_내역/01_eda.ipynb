{
 "cells": [
  {
   "cell_type": "code",
   "execution_count": null,
   "metadata": {},
   "outputs": [],
   "source": [
    "from collections import Counter\n",
    "from glob import glob\n",
    "\n",
    "import pandas as pd\n",
    "from tqdm import tqdm"
   ]
  },
  {
   "cell_type": "code",
   "execution_count": null,
   "metadata": {},
   "outputs": [],
   "source": [
    "file_paths = glob(\"./data/raw_data/*.csv\")"
   ]
  },
  {
   "cell_type": "code",
   "execution_count": null,
   "metadata": {},
   "outputs": [],
   "source": [
    "def read_csv(file_path):\n",
    "    encodings = [\"utf-8\", \"cp949\"]\n",
    "    for encoding in encodings:\n",
    "        try:\n",
    "            df = pd.read_csv(file_path, low_memory=False, encoding=encoding)\n",
    "            return (df, encoding)\n",
    "        except UnicodeDecodeError:\n",
    "            continue\n",
    "        except pd.errors.ParserError:\n",
    "            return (None, None)"
   ]
  },
  {
   "cell_type": "code",
   "execution_count": null,
   "metadata": {},
   "outputs": [],
   "source": [
    "file_encoding_dict = dict()\n",
    "file_column_dict = dict()\n",
    "\n",
    "for file_path in tqdm(file_paths):\n",
    "    df, encoding = read_csv(file_path)\n",
    "    \n",
    "    if df is not None:\n",
    "        file_encoding_dict[file_path] = encoding\n",
    "        file_column_dict[file_path] = list(df.columns)\n",
    "    \n",
    "    else:\n",
    "        file_encoding_dict[file_path] = \"ParseError\"\n",
    "        file_column_dict[file_path] = \"ParseError\""
   ]
  },
  {
   "cell_type": "code",
   "execution_count": null,
   "metadata": {},
   "outputs": [],
   "source": [
    "Counter(list(file_encoding_dict.values()))"
   ]
  },
  {
   "cell_type": "code",
   "execution_count": null,
   "metadata": {},
   "outputs": [],
   "source": [
    "columns_list = list(file_column_dict.values())"
   ]
  },
  {
   "cell_type": "code",
   "execution_count": null,
   "metadata": {},
   "outputs": [],
   "source": [
    "Counter(sum(columns,[]))"
   ]
  },
  {
   "cell_type": "code",
   "execution_count": null,
   "metadata": {},
   "outputs": [],
   "source": [
    "get_first = lambda x: x.split()[0]\n",
    "\n",
    "preproc = lambda cols: [get_first(col) for col in cols]\n",
    "Counter(sum(list(map(preproc,columns)),[]))"
   ]
  },
  {
   "cell_type": "code",
   "execution_count": null,
   "metadata": {},
   "outputs": [],
   "source": [
    "get_first = lambda x: x.split()[0]\n",
    "do_strip = lambda x: x.strip()\n",
    "\n",
    "preproc = lambda cols: [do_strip(get_first(col)) for col in cols]\n",
    "Counter(sum(list(map(preproc,columns)),[]))"
   ]
  },
  {
   "cell_type": "code",
   "execution_count": null,
   "metadata": {},
   "outputs": [],
   "source": [
    "get_first = lambda x: x.split()[0]\n",
    "do_strip = lambda x: x.strip()\n",
    "drop_bracket = lambda x: x.split(\"(\")[0]\n",
    "\n",
    "preproc = lambda cols: [drop_bracket(do_strip(get_first(col))) for col in cols]\n",
    "Counter(sum(list(map(preproc,columns)),[]))"
   ]
  }
 ],
 "metadata": {
  "language_info": {
   "name": "python"
  }
 },
 "nbformat": 4,
 "nbformat_minor": 2
}
