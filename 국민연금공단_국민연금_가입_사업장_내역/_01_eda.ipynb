{
 "cells": [
  {
   "cell_type": "code",
   "execution_count": 1,
   "metadata": {},
   "outputs": [],
   "source": [
    "from functools import reduce\n",
    "from collections import Counter\n",
    "from glob import glob\n",
    "\n",
    "import pandas as pd\n",
    "from tqdm import tqdm\n",
    "import dill"
   ]
  },
  {
   "cell_type": "code",
   "execution_count": 2,
   "metadata": {},
   "outputs": [],
   "source": [
    "file_paths = glob(\"./data/raw_data/*.csv\")"
   ]
  },
  {
   "cell_type": "code",
   "execution_count": 3,
   "metadata": {},
   "outputs": [],
   "source": [
    "def read_csv(file_path):\n",
    "    encodings = [\"utf-8\", \"cp949\"]\n",
    "    for encoding in encodings:\n",
    "        try:\n",
    "            df = pd.read_csv(file_path, low_memory=False, encoding=encoding)\n",
    "            return (df, encoding)\n",
    "        except UnicodeDecodeError:\n",
    "            continue\n",
    "        except pd.errors.ParserError:\n",
    "            return (None, None)"
   ]
  },
  {
   "cell_type": "code",
   "execution_count": 4,
   "metadata": {},
   "outputs": [
    {
     "name": "stderr",
     "output_type": "stream",
     "text": [
      "100%|██████████| 100/100 [02:38<00:00,  1.58s/it]\n"
     ]
    }
   ],
   "source": [
    "file_encoding_dict = dict()\n",
    "file_column_dict = dict()\n",
    "\n",
    "for file_path in tqdm(file_paths):\n",
    "    df, encoding = read_csv(file_path)\n",
    "    \n",
    "    if df is not None:\n",
    "        file_encoding_dict[file_path] = encoding\n",
    "        file_column_dict[file_path] = list(df.columns)\n",
    "    \n",
    "    else:\n",
    "        file_encoding_dict[file_path] = \"ParseError\"\n",
    "        file_column_dict[file_path] = \"ParseError\""
   ]
  },
  {
   "cell_type": "code",
   "execution_count": 17,
   "metadata": {},
   "outputs": [],
   "source": [
    "read_csv = lambda file_path: pd.read_csv(file_path, low_memory=False, encoding='cp949')\n",
    "with open(\"./read_csv.pkl\", 'wb') as f:\n",
    "    dill.dump(read_csv, f)"
   ]
  },
  {
   "cell_type": "code",
   "execution_count": 5,
   "metadata": {},
   "outputs": [
    {
     "data": {
      "text/plain": [
       "Counter({'cp949': 100})"
      ]
     },
     "execution_count": 5,
     "metadata": {},
     "output_type": "execute_result"
    }
   ],
   "source": [
    "Counter(list(file_encoding_dict.values()))"
   ]
  },
  {
   "cell_type": "code",
   "execution_count": 6,
   "metadata": {},
   "outputs": [],
   "source": [
    "columns_list = list(file_column_dict.values())"
   ]
  },
  {
   "cell_type": "code",
   "execution_count": 7,
   "metadata": {},
   "outputs": [
    {
     "data": {
      "text/plain": [
       "Counter({'자료생성년월 DATA_CRT_YM VARCHAR(6)': 50,\n",
       "         '사업장명 WKPL_NM\\tVARCHAR(100)': 50,\n",
       "         '사업자등록번호 BZOWR_RGST_NO VARCHAR(10)': 50,\n",
       "         '사업장가입상태코드 1:등록2:탈퇴 WKPL_JNNG_STCD VARCHAR(1)': 50,\n",
       "         '우편번호 ZIP\\tVARCHAR(6)': 50,\n",
       "         '사업장지번상세주소 WKPL_LTNO_DTL_ADDR\\tVARCHAR(300)': 50,\n",
       "         '사업장도로명상세주소 WKPL_ROAD_NM_DTL_ADDR VARCHAR(300)': 50,\n",
       "         '고객법정동주소코드 CUST_LDONG_ADDR_CD\\tVARCHAR(10)': 50,\n",
       "         '고객행정동주소코드 CUST_PADONG_ADDR_CD\\tVARCHAR(10)': 50,\n",
       "         '법정동주소광역시도코드 LDONG_ADDR_MGPL_DG_CD\\tVARCHAR(2)': 50,\n",
       "         '법정동주소광역시시군구코드 LDONG_ADDR_MGPL_SGGU_CD\\tVARCHAR(5)': 50,\n",
       "         '법정동주소광역시시군구읍면동코드 LDONG_ADDR_MGPL_SGGU_EMD_CD\\tVARCHAR(8)': 50,\n",
       "         '사업장형태구분코드 1:법인2:개인 WKPL_STYL_DVCD\\tVARCHAR(1)': 50,\n",
       "         '사업장업종코드 WKPL_INTP_CD\\t국세청업종코드참조 VARCHAR(6)': 50,\n",
       "         '사업장업종코드명 VLDT_VL_KRN_NM VARCHAR(200)': 50,\n",
       "         '적용일자 ADPT_DT VARCHAR(8)': 50,\n",
       "         '재등록일자 RRG_DT\\tVARCHAR(8)': 50,\n",
       "         '탈퇴일자 SCSN_DT VARCHAR(8)': 50,\n",
       "         '가입자수 JNNGP_CNT INTEGER': 50,\n",
       "         '당월고지금액 CRRMM_NTC_AMT\\tINTEGER': 50,\n",
       "         '신규취득자수 NW_ACQZR_CNT\\tINTEGER': 50,\n",
       "         '상실가입자수 LSS_JNNGP_CNT\\tINTEGER': 50,\n",
       "         '자료생성년월': 32,\n",
       "         ' 사업장명': 28,\n",
       "         ' 사업자등록번호': 28,\n",
       "         ' 사업장가입상태코드 1 등록 2 탈퇴': 28,\n",
       "         ' 우편번호': 28,\n",
       "         ' 사업장지번상세주소': 28,\n",
       "         ' 사업장도로명상세주소': 28,\n",
       "         ' 고객법정동주소코드': 28,\n",
       "         ' 고객행정동주소코드': 28,\n",
       "         ' 법정동주소광역시도코드': 28,\n",
       "         ' 법정동주소광역시시군구코드': 28,\n",
       "         ' 법정동주소광역시시군구읍면동코드': 28,\n",
       "         ' 사업장형태구분코드 1 법인 2 개인': 28,\n",
       "         ' 사업장업종코드': 28,\n",
       "         ' 사업장업종코드명': 28,\n",
       "         ' 적용일자': 28,\n",
       "         ' 재등록일자': 28,\n",
       "         ' 탈퇴일자': 28,\n",
       "         '사업장명': 22,\n",
       "         '사업자등록번호': 22,\n",
       "         '사업장가입상태코드 1 등록 2 탈퇴': 22,\n",
       "         '우편번호': 22,\n",
       "         '사업장지번상세주소': 22,\n",
       "         '사업장도로명상세주소': 22,\n",
       "         '고객법정동주소코드': 22,\n",
       "         '고객행정동주소코드': 22,\n",
       "         '법정동주소광역시도코드': 22,\n",
       "         '법정동주소광역시시군구코드': 22,\n",
       "         '법정동주소광역시시군구읍면동코드': 22,\n",
       "         '사업장형태구분코드 1 법인 2 개인': 22,\n",
       "         '사업장업종코드': 22,\n",
       "         '사업장업종코드명': 22,\n",
       "         '적용일자': 22,\n",
       "         '재등록일자': 22,\n",
       "         '탈퇴일자': 22,\n",
       "         '가입자수': 22,\n",
       "         '당월고지금액': 22,\n",
       "         '신규취득자수': 22,\n",
       "         '상실가입자수': 22,\n",
       "         '자료생성년월(자격마감일(사유발생일이 속하는 달의 다음달 15일)까지 신고분 반영)': 18,\n",
       "         ' 가입자수(고지인원 수 포함)': 18,\n",
       "         ' 당월고지금액( 국민연금법 시행령 제5조에 의거 기준소득월액 상한액 적용으로 실제소득과 고지금액은 상이할 수 있음  상한액 2019.7.~2020.6. 4860000원(2019.7.1.기준) 상한액 2020.7.~2021.6. 5030000원(2020.7.1.기준) 상한액 2021.7.~2022.6.  5240000원(2021.7.1.기준) )': 18,\n",
       "         ' 신규취득자수(납부재개 포함  전달 고지대상자와 비교하므로 실제 취득자와 상이할 수 있음(초일취득 고지 초일이 아닌경우. 미고지(다음달 취득자수에 반영))': 18,\n",
       "         ' 상실가입자수(납부예외 포함  전달 고지대상자와 비교하므로 실제 퇴사자와 상이할 수 있음(초일이 아닌 상실자는 다음달 상실자수에 반영) 국민연금법 제6조 8조 동법 시행령 제18조에 의거 60세 도달하거나 퇴직연금수급자 조기노령연금 수급권을 취득한 자는 가입대상에서 제외되며 18세미만 기초수급자는 본인희망에 의해 제외될 수 있음)': 18,\n",
       "         ' 가입자수': 10,\n",
       "         ' 당월고지금액': 10,\n",
       "         ' 신규취득자수': 10,\n",
       "         ' 상실가입자수': 10})"
      ]
     },
     "execution_count": 7,
     "metadata": {},
     "output_type": "execute_result"
    }
   ],
   "source": [
    "Counter(sum(columns_list,[]))"
   ]
  },
  {
   "cell_type": "code",
   "execution_count": 8,
   "metadata": {},
   "outputs": [
    {
     "data": {
      "text/plain": [
       "Counter({'사업장명': 100,\n",
       "         '사업자등록번호': 100,\n",
       "         '사업장가입상태코드': 100,\n",
       "         '우편번호': 100,\n",
       "         '사업장지번상세주소': 100,\n",
       "         '사업장도로명상세주소': 100,\n",
       "         '고객법정동주소코드': 100,\n",
       "         '고객행정동주소코드': 100,\n",
       "         '법정동주소광역시도코드': 100,\n",
       "         '법정동주소광역시시군구코드': 100,\n",
       "         '법정동주소광역시시군구읍면동코드': 100,\n",
       "         '사업장형태구분코드': 100,\n",
       "         '사업장업종코드': 100,\n",
       "         '사업장업종코드명': 100,\n",
       "         '적용일자': 100,\n",
       "         '재등록일자': 100,\n",
       "         '탈퇴일자': 100,\n",
       "         '자료생성년월': 82,\n",
       "         '가입자수': 82,\n",
       "         '당월고지금액': 82,\n",
       "         '신규취득자수': 82,\n",
       "         '상실가입자수': 82,\n",
       "         '자료생성년월(자격마감일(사유발생일이': 18,\n",
       "         '가입자수(고지인원': 18,\n",
       "         '당월고지금액(': 18,\n",
       "         '신규취득자수(납부재개': 18,\n",
       "         '상실가입자수(납부예외': 18})"
      ]
     },
     "execution_count": 8,
     "metadata": {},
     "output_type": "execute_result"
    }
   ],
   "source": [
    "get_first = lambda x: x.split()[0]\n",
    "\n",
    "preproc = lambda cols: [get_first(col) for col in cols]\n",
    "Counter(sum(list(map(preproc,columns_list)),[]))"
   ]
  },
  {
   "cell_type": "code",
   "execution_count": 9,
   "metadata": {},
   "outputs": [
    {
     "data": {
      "text/plain": [
       "Counter({'사업장명': 100,\n",
       "         '사업자등록번호': 100,\n",
       "         '사업장가입상태코드': 100,\n",
       "         '우편번호': 100,\n",
       "         '사업장지번상세주소': 100,\n",
       "         '사업장도로명상세주소': 100,\n",
       "         '고객법정동주소코드': 100,\n",
       "         '고객행정동주소코드': 100,\n",
       "         '법정동주소광역시도코드': 100,\n",
       "         '법정동주소광역시시군구코드': 100,\n",
       "         '법정동주소광역시시군구읍면동코드': 100,\n",
       "         '사업장형태구분코드': 100,\n",
       "         '사업장업종코드': 100,\n",
       "         '사업장업종코드명': 100,\n",
       "         '적용일자': 100,\n",
       "         '재등록일자': 100,\n",
       "         '탈퇴일자': 100,\n",
       "         '자료생성년월': 82,\n",
       "         '가입자수': 82,\n",
       "         '당월고지금액': 82,\n",
       "         '신규취득자수': 82,\n",
       "         '상실가입자수': 82,\n",
       "         '자료생성년월(자격마감일(사유발생일이': 18,\n",
       "         '가입자수(고지인원': 18,\n",
       "         '당월고지금액(': 18,\n",
       "         '신규취득자수(납부재개': 18,\n",
       "         '상실가입자수(납부예외': 18})"
      ]
     },
     "execution_count": 9,
     "metadata": {},
     "output_type": "execute_result"
    }
   ],
   "source": [
    "get_first = lambda x: x.split()[0]\n",
    "do_strip = lambda x: x.strip()\n",
    "\n",
    "preproc = lambda cols: [do_strip(get_first(col)) for col in cols]\n",
    "Counter(sum(list(map(preproc,columns_list)),[]))"
   ]
  },
  {
   "cell_type": "code",
   "execution_count": 5,
   "metadata": {},
   "outputs": [],
   "source": [
    "def composer(*funcs):\n",
    "    return reduce(lambda f, g: lambda x: g(f(x)), funcs)\n",
    "\n",
    "\n",
    "def get_first(x):\n",
    "    return x.split()[0]\n",
    "\n",
    "\n",
    "def do_strip(x):\n",
    "    return x.strip()\n",
    "\n",
    "\n",
    "def drop_bracket(x):\n",
    "    return x.split(\"(\")[0]\n",
    "\n",
    "\n",
    "# def preproc(cols):\n",
    "#     return [drop_bracket(do_strip(get_first(col))) for col in cols]\n",
    "\n",
    "preproc = composer(get_first, do_strip, drop_bracket)\n",
    "\n",
    "# preproc = lambda cols: [drop_bracket(do_strip(get_first(col))) for col in cols]\n",
    "# Counter(sum(list(map(preproc, columns_list)), []))"
   ]
  },
  {
   "cell_type": "code",
   "execution_count": 6,
   "metadata": {},
   "outputs": [],
   "source": [
    "import dill\n",
    "\n",
    "with open(\"./preproc_column.pkl\", 'wb') as f:\n",
    "    dill.dump(preproc, f)"
   ]
  },
  {
   "cell_type": "code",
   "execution_count": null,
   "metadata": {},
   "outputs": [],
   "source": [
    "columns = {\n",
    "    # base_cols\n",
    "    '자료생성년월': 100,\n",
    "    '사업자등록번호': 100,\n",
    "    # corp_cols\n",
    "    '사업장명': 100,\n",
    "    '사업장가입상태코드': 100,\n",
    "    '사업장형태구분코드': 100,\n",
    "    '사업장업종코드': 100,\n",
    "    '사업장업종코드명': 100,\n",
    "    '적용일자': 100,\n",
    "    '재등록일자': 100,\n",
    "    '탈퇴일자': 100,\n",
    "    # addr_cols\n",
    "    '사업장지번상세주소': 100,\n",
    "    '사업장도로명상세주소': 100,\n",
    "    '고객법정동주소코드': 100,\n",
    "    '고객행정동주소코드': 100,\n",
    "    '법정동주소광역시도코드': 100,\n",
    "    '법정동주소광역시시군구코드': 100,\n",
    "    '법정동주소광역시시군구읍면동코드': 100,\n",
    "    '우편번호': 100,\n",
    "    # nps_cols (national pension service(국민연금))\n",
    "    '가입자수': 100,\n",
    "    '당월고지금액': 100,\n",
    "    '신규취득자수': 100,\n",
    "    '상실가입자수': 100,\n",
    "}\n",
    "\n",
    "with open(\"./columns.pkl\", 'wb') as f:\n",
    "    dill.dump(columns, f)"
   ]
  }
 ],
 "metadata": {
  "kernelspec": {
   "display_name": "quant_trading",
   "language": "python",
   "name": "python3"
  },
  "language_info": {
   "codemirror_mode": {
    "name": "ipython",
    "version": 3
   },
   "file_extension": ".py",
   "mimetype": "text/x-python",
   "name": "python",
   "nbconvert_exporter": "python",
   "pygments_lexer": "ipython3",
   "version": "3.10.13"
  }
 },
 "nbformat": 4,
 "nbformat_minor": 2
}
