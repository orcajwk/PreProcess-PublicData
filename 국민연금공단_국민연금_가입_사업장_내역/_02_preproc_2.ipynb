{
 "cells": [
  {
   "cell_type": "code",
   "execution_count": 5,
   "metadata": {},
   "outputs": [],
   "source": [
    "# import os\n",
    "from pathlib import Path\n",
    "from glob import glob\n",
    "\n",
    "import pandas as pd\n",
    "from tqdm import tqdm"
   ]
  },
  {
   "cell_type": "code",
   "execution_count": 6,
   "metadata": {},
   "outputs": [],
   "source": [
    "# Loads\n",
    "file_paths = glob(\"./data/preproc_data/*.csv\")"
   ]
  },
  {
   "cell_type": "code",
   "execution_count": 7,
   "metadata": {},
   "outputs": [],
   "source": [
    "file_names = [Path(file_path).stem for file_path in file_paths]\n",
    "file_dates = [file_name.split('_')[-1] for file_name in file_names]\n",
    "file_years = [file_date.split('-')[0] for file_date in file_dates]"
   ]
  },
  {
   "cell_type": "code",
   "execution_count": 8,
   "metadata": {},
   "outputs": [
    {
     "data": {
      "text/plain": [
       "['2015',\n",
       " '2016',\n",
       " '2017',\n",
       " '2018',\n",
       " '2019',\n",
       " '2020',\n",
       " '2021',\n",
       " '2022',\n",
       " '2023',\n",
       " '2024']"
      ]
     },
     "execution_count": 8,
     "metadata": {},
     "output_type": "execute_result"
    }
   ],
   "source": [
    "file_years = sorted(set(file_years))\n",
    "file_years"
   ]
  },
  {
   "cell_type": "code",
   "execution_count": 9,
   "metadata": {},
   "outputs": [],
   "source": [
    "for year in file_years:\n",
    "    _addr_paths = glob(f\"./data/preproc_data/addr_{year}*.csv\")\n",
    "    df = pd.concat(\n",
    "        [pd.read_csv(path, index_col=0, low_memory=False) for path in _addr_paths]\n",
    "    ).convert_dtypes()\n",
    "    object_columns = df.select_dtypes('object').columns\n",
    "    df.loc[:, object_columns] = df.loc[:, object_columns].astype(str)\n",
    "    df.to_parquet(f'./data/final_data/addr_{year}.parquet')\n",
    "\n",
    "    _nps_paths = glob(f\"./data/preproc_data/nps_{year}*.csv\")\n",
    "    df = pd.concat(\n",
    "        [pd.read_csv(path, index_col=0, low_memory=False) for path in _nps_paths]\n",
    "    ).convert_dtypes()\n",
    "    object_columns = df.select_dtypes('object').columns\n",
    "    df.loc[:, object_columns] = df.loc[:, object_columns].astype(str)\n",
    "    df.to_parquet(f'./data/final_data/nps_{year}.parquet')\n",
    "\n",
    "    _corp_paths = glob(f\"./data/preproc_data/corp_{year}*.csv\")\n",
    "    df = pd.concat(\n",
    "        [pd.read_csv(path, index_col=0, low_memory=False) for path in _corp_paths]\n",
    "    ).convert_dtypes()\n",
    "    object_columns = df.select_dtypes('object').columns\n",
    "    df.loc[:, object_columns] = df.loc[:, object_columns].astype(str)\n",
    "    df.to_parquet(f'./data/final_data/corp_{year}.parquet')"
   ]
  },
  {
   "cell_type": "code",
   "execution_count": null,
   "metadata": {},
   "outputs": [],
   "source": []
  }
 ],
 "metadata": {
  "kernelspec": {
   "display_name": "quant_trading",
   "language": "python",
   "name": "python3"
  },
  "language_info": {
   "codemirror_mode": {
    "name": "ipython",
    "version": 3
   },
   "file_extension": ".py",
   "mimetype": "text/x-python",
   "name": "python",
   "nbconvert_exporter": "python",
   "pygments_lexer": "ipython3",
   "version": "3.10.13"
  }
 },
 "nbformat": 4,
 "nbformat_minor": 2
}
