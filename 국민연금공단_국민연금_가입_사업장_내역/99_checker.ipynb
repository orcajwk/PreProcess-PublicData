{
 "cells": [
  {
   "cell_type": "code",
   "execution_count": null,
   "metadata": {},
   "outputs": [],
   "source": [
    "# import os\n",
    "from pathlib import Path\n",
    "from glob import glob\n",
    "\n",
    "import pandas as pd\n",
    "from tqdm import tqdm"
   ]
  },
  {
   "cell_type": "code",
   "execution_count": null,
   "metadata": {},
   "outputs": [],
   "source": [
    "# Loads\n",
    "file_paths = glob(\"./data/final_data/*.parquet\")\n",
    "addr_file_paths = glob(\"./data/final_data/addr_*.parquet\")\n",
    "corp_file_paths = glob(\"./data/final_data/corp_*.parquet\")\n",
    "nps_file_paths = glob(\"./data/final_data/nps_*.parquet\")"
   ]
  },
  {
   "cell_type": "code",
   "execution_count": null,
   "metadata": {},
   "outputs": [],
   "source": [
    "addr_file_paths[3], corp_file_paths[3], nps_file_paths[3]"
   ]
  },
  {
   "cell_type": "code",
   "execution_count": null,
   "metadata": {},
   "outputs": [],
   "source": [
    "addr_df = pd.read_parquet(addr_file_paths[3])\n",
    "corp_df = pd.read_parquet(corp_file_paths[3])\n",
    "nps_df = pd.read_parquet(nps_file_paths[3])"
   ]
  },
  {
   "cell_type": "code",
   "execution_count": null,
   "metadata": {},
   "outputs": [],
   "source": [
    "addr_df.reset_index(drop=True,inplace=True)\n",
    "corp_df.reset_index(drop=True,inplace=True)\n",
    "nps_df.reset_index(drop=True,inplace=True)"
   ]
  },
  {
   "cell_type": "code",
   "execution_count": null,
   "metadata": {},
   "outputs": [],
   "source": [
    "df = pd.concat(\n",
    "    [\n",
    "        addr_df,\n",
    "        corp_df.drop(columns=['사업자등록번호', '자료생성년월']),\n",
    "        nps_df.drop(columns=['사업자등록번호', '자료생성년월']),\n",
    "    ],\n",
    "    axis=1,\n",
    ")"
   ]
  },
  {
   "cell_type": "code",
   "execution_count": null,
   "metadata": {},
   "outputs": [],
   "source": [
    "df.head().T"
   ]
  }
 ],
 "metadata": {
  "kernelspec": {
   "display_name": "quant_trading",
   "language": "python",
   "name": "python3"
  },
  "language_info": {
   "codemirror_mode": {
    "name": "ipython",
    "version": 3
   },
   "file_extension": ".py",
   "mimetype": "text/x-python",
   "name": "python",
   "nbconvert_exporter": "python",
   "pygments_lexer": "ipython3",
   "version": "3.10.13"
  }
 },
 "nbformat": 4,
 "nbformat_minor": 2
}
