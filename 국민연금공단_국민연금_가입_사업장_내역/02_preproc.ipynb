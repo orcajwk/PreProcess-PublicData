{
 "cells": [
  {
   "cell_type": "code",
   "execution_count": 1,
   "metadata": {},
   "outputs": [],
   "source": [
    "from glob import glob\n",
    "\n",
    "import pandas as pd\n",
    "from tqdm import tqdm"
   ]
  },
  {
   "cell_type": "code",
   "execution_count": 2,
   "metadata": {},
   "outputs": [],
   "source": [
    "# Params\n",
    "BASE_COLS = [\"사업자등록번호\"]\n",
    "\n",
    "DATE_COLS = [\"자료생성년월\"]\n",
    "\n",
    "ADDR_COLS = [\"우편번호\", \"사업장지번상세주소\", \"사업장도로명상세주소\"]\n",
    "CATEGORY_COLS = [\"사업장업종코드\", \"사업장업종코드명\"]\n",
    "SUBSCRIBE_COLS = [\"가입자수\", \"당월고지금액\", \"신규취득자수\", \"상실가입자수\"]"
   ]
  },
  {
   "cell_type": "code",
   "execution_count": 3,
   "metadata": {},
   "outputs": [],
   "source": [
    "# Loads\n",
    "file_paths = glob(\"./data/raw_data/*.csv\")"
   ]
  },
  {
   "cell_type": "code",
   "execution_count": 4,
   "metadata": {},
   "outputs": [],
   "source": [
    "# Fuctions\n",
    "##\n",
    "read_csv = lambda file_path: pd.read_csv(file_path, encoding='cp949', low_memory=False)\n",
    "\n",
    "##\n",
    "get_first = lambda x: x.split()[0]\n",
    "do_strip = lambda x: x.strip()\n",
    "drop_bracket = lambda x: x.split(\"(\")[0]\n",
    "\n",
    "preproc_column = lambda x: drop_bracket(do_strip(get_first(x)))\n",
    "\n",
    "##\n",
    "def slice_column(df, base_cols, feature_cols):\n",
    "    sliced_df = df.loc[:, base_cols + feature_cols]\n",
    "    return sliced_df\n",
    "\n",
    "slice_addr = lambda df: slice_column(df, BASE_COLS + DATE_COLS, ADDR_COLS)\n",
    "slice_category = lambda df: slice_column(df, BASE_COLS + DATE_COLS, CATEGORY_COLS)\n",
    "slice_subscribe = lambda df: slice_column(df, BASE_COLS + DATE_COLS, SUBSCRIBE_COLS)\n",
    "\n",
    "## \n",
    "def get_date(df, date_col):\n",
    "    date = df[date_col].mode().iloc[0]\n",
    "    return date"
   ]
  },
  {
   "cell_type": "code",
   "execution_count": 5,
   "metadata": {},
   "outputs": [
    {
     "name": "stderr",
     "output_type": "stream",
     "text": [
      "100%|██████████| 100/100 [05:21<00:00,  3.22s/it]\n"
     ]
    }
   ],
   "source": [
    "for file_path in tqdm(file_paths):\n",
    "    \n",
    "    df = read_csv(file_path)\n",
    "    df.columns = list(map(preproc_column, df.columns))\n",
    "    date = get_date(df, DATE_COLS[0])\n",
    "\n",
    "    slice_addr(df).to_csv(f\"./data/preproc_data/addr_{date}.csv\")\n",
    "    slice_category(df).to_csv(f\"./data/preproc_data/category_{date}.csv\")\n",
    "    slice_subscribe(df).to_csv(f\"./data/preproc_data/subscribe_{date}.csv\")"
   ]
  },
  {
   "cell_type": "code",
   "execution_count": null,
   "metadata": {},
   "outputs": [],
   "source": []
  }
 ],
 "metadata": {
  "kernelspec": {
   "display_name": "quant_trading",
   "language": "python",
   "name": "python3"
  },
  "language_info": {
   "codemirror_mode": {
    "name": "ipython",
    "version": 3
   },
   "file_extension": ".py",
   "mimetype": "text/x-python",
   "name": "python",
   "nbconvert_exporter": "python",
   "pygments_lexer": "ipython3",
   "version": "3.10.13"
  }
 },
 "nbformat": 4,
 "nbformat_minor": 2
}
