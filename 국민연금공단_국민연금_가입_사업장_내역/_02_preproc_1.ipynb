{
 "cells": [
  {
   "cell_type": "code",
   "execution_count": 16,
   "metadata": {},
   "outputs": [],
   "source": [
    "from glob import glob\n",
    "\n",
    "import pandas as pd\n",
    "from tqdm import tqdm\n",
    "import dill"
   ]
  },
  {
   "cell_type": "code",
   "execution_count": 17,
   "metadata": {},
   "outputs": [],
   "source": [
    "with open(\"./read_csv.pkl\", 'rb') as f:\n",
    "    read_csv = dill.load(f)\n",
    "    \n",
    "with open(\"./preproc_column.pkl\", 'rb') as f:\n",
    "    preproc_column = dill.load(f)"
   ]
  },
  {
   "cell_type": "code",
   "execution_count": 18,
   "metadata": {},
   "outputs": [],
   "source": [
    "# Params\n",
    "BASE_COLS = ['사업자등록번호', '자료생성년월']\n",
    "\n",
    "ADDR_COLS = [\n",
    "    '사업장지번상세주소', \n",
    "    '사업장도로명상세주소',\n",
    "    '고객법정동주소코드', \n",
    "    '고객행정동주소코드',\n",
    "    '법정동주소광역시도코드',\n",
    "    '법정동주소광역시시군구코드',\n",
    "    '법정동주소광역시시군구읍면동코드',\n",
    "    '우편번호',\n",
    "]\n",
    "\n",
    "CORP_COLS = [\n",
    "    '사업장명',\n",
    "    '사업장가입상태코드',\n",
    "    '사업장형태구분코드',\n",
    "    '사업장업종코드',\n",
    "    '사업장업종코드명',\n",
    "    '적용일자',\n",
    "    '재등록일자',\n",
    "    '탈퇴일자',\n",
    "]\n",
    "\n",
    "NPS_COLS = [\n",
    "    '가입자수',\n",
    "    '당월고지금액',\n",
    "    '신규취득자수',\n",
    "    '상실가입자수',\n",
    "]"
   ]
  },
  {
   "cell_type": "code",
   "execution_count": 19,
   "metadata": {},
   "outputs": [],
   "source": [
    "# Loads\n",
    "file_paths = glob(\"./data/raw_data/*.csv\")"
   ]
  },
  {
   "cell_type": "code",
   "execution_count": 20,
   "metadata": {},
   "outputs": [],
   "source": [
    "# Fuctions\n",
    "##\n",
    "def slice_column(df, base_cols, feature_cols):\n",
    "    sliced_df = df.loc[:, base_cols + feature_cols]\n",
    "    return sliced_df\n",
    "\n",
    "\n",
    "slice_addr = lambda df: slice_column(df, BASE_COLS, ADDR_COLS)\n",
    "slice_corp = lambda df: slice_column(df, BASE_COLS, CORP_COLS)\n",
    "slice_nps = lambda df: slice_column(df, BASE_COLS, NPS_COLS)\n",
    "\n",
    "\n",
    "##\n",
    "def get_date(df, date_col):\n",
    "    date = df[date_col].mode().iloc[0]\n",
    "    return date"
   ]
  },
  {
   "cell_type": "code",
   "execution_count": 21,
   "metadata": {},
   "outputs": [
    {
     "name": "stderr",
     "output_type": "stream",
     "text": [
      "100%|██████████| 100/100 [06:36<00:00,  3.97s/it]\n"
     ]
    }
   ],
   "source": [
    "for file_path in tqdm(file_paths):\n",
    "\n",
    "    df = read_csv(file_path)\n",
    "    df.columns = list(map(preproc_column, df.columns))\n",
    "    date = get_date(df, BASE_COLS[-1])\n",
    "    object_columns = df.convert_dtypes().select_dtypes('object').columns\n",
    "    df.loc[:, object_columns] = df.loc[:, object_columns].astype(str)\n",
    "    \n",
    "    slice_addr(df).to_csv(f\"./data/preproc_data/addr_{date}.csv\")\n",
    "    slice_corp(df).to_csv(f\"./data/preproc_data/corp_{date}.csv\")\n",
    "    slice_nps(df).to_csv(f\"./data/preproc_data/nps_{date}.csv\")"
   ]
  },
  {
   "cell_type": "code",
   "execution_count": null,
   "metadata": {},
   "outputs": [],
   "source": []
  }
 ],
 "metadata": {
  "kernelspec": {
   "display_name": "quant_trading",
   "language": "python",
   "name": "python3"
  },
  "language_info": {
   "codemirror_mode": {
    "name": "ipython",
    "version": 3
   },
   "file_extension": ".py",
   "mimetype": "text/x-python",
   "name": "python",
   "nbconvert_exporter": "python",
   "pygments_lexer": "ipython3",
   "version": "3.10.13"
  }
 },
 "nbformat": 4,
 "nbformat_minor": 2
}
