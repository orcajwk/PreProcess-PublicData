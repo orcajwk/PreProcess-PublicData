{
 "cells": [
  {
   "cell_type": "code",
   "execution_count": null,
   "metadata": {},
   "outputs": [],
   "source": [
    "# This code is for checking \n",
    "# Preprocessing method for 법정동"
   ]
  },
  {
   "cell_type": "code",
   "execution_count": null,
   "metadata": {},
   "outputs": [],
   "source": [
    "from glob import glob\n",
    "\n",
    "import pandas as pd\n",
    "import geopandas as gpd"
   ]
  },
  {
   "cell_type": "code",
   "execution_count": null,
   "metadata": {},
   "outputs": [],
   "source": [
    "bdong_shp_paths = glob(\"./data/raw_data/법정동_좌표/*/*.shp\")\n",
    "bdong_shp_paths"
   ]
  },
  {
   "cell_type": "code",
   "execution_count": null,
   "metadata": {},
   "outputs": [],
   "source": [
    "def read_gdf(file_path, encoding):\n",
    "    gdf = gpd.read_file(file_path, encoding=encoding)\n",
    "    return gdf\n",
    "\n",
    "\n",
    "def gdf2df(gdf):\n",
    "    return pd.DataFrame(gdf)\n",
    "\n",
    "\n",
    "read_gdf_with_cp949 = lambda file_path: read_gdf(file_path, \"cp949\")\n",
    "read_shp = lambda file_path: gdf2df(read_gdf_with_cp949(file_path))"
   ]
  },
  {
   "cell_type": "code",
   "execution_count": null,
   "metadata": {},
   "outputs": [],
   "source": [
    "bdong_shp_df = pd.concat([read_shp(shp_path) for shp_path in bdong_shp_paths])\n",
    "bdong_shp_df.head()"
   ]
  },
  {
   "cell_type": "code",
   "execution_count": null,
   "metadata": {},
   "outputs": [],
   "source": [
    "def read_csv(file_path, params):\n",
    "    return pd.read_csv(file_path, **params)\n",
    "\n",
    "read_csv_params = {\n",
    "    \"dtype\": {\"시도코드\": str, \"시군구코드\": str, \"법정동코드\": str},\n",
    "}\n",
    "\n",
    "read_csv_with_params = lambda file_path: read_csv(file_path, read_csv_params)"
   ]
  },
  {
   "cell_type": "code",
   "execution_count": null,
   "metadata": {},
   "outputs": [],
   "source": [
    "file_path = \"./data/preproc_data/bdong_raw.csv\"\n",
    "bdong_base = read_csv_with_params(file_path)\n",
    "bdong_base.head()"
   ]
  },
  {
   "cell_type": "code",
   "execution_count": null,
   "metadata": {},
   "outputs": [],
   "source": [
    "bdong_base[\"rough_name\"] = bdong_base[\"시도명\"] + \"_\" + bdong_base[\"시군구명\"].fillna(\"\")\n",
    "rough_code_name_dict = bdong_base.set_index(\"시군구코드\")['rough_name'].to_dict()"
   ]
  },
  {
   "cell_type": "code",
   "execution_count": null,
   "metadata": {},
   "outputs": [],
   "source": [
    "bdong_shp_df[\"rough_name\"] = bdong_shp_df[\"COL_ADM_SE\"].astype(str).map(rough_code_name_dict)"
   ]
  },
  {
   "cell_type": "code",
   "execution_count": null,
   "metadata": {},
   "outputs": [],
   "source": [
    "preproc_bdong_shp_df = bdong_shp_df.loc[:,['EMD_NM','EMD_CD','rough_name','geometry']]\n",
    "preproc_bdong_shp_df.columns = [\"detail_name\", \"detail_code\", \"rough_name\", \"geometry\"]"
   ]
  }
 ],
 "metadata": {
  "kernelspec": {
   "display_name": "quant_trading",
   "language": "python",
   "name": "python3"
  },
  "language_info": {
   "codemirror_mode": {
    "name": "ipython",
    "version": 3
   },
   "file_extension": ".py",
   "mimetype": "text/x-python",
   "name": "python",
   "nbconvert_exporter": "python",
   "pygments_lexer": "ipython3",
   "version": "3.10.13"
  }
 },
 "nbformat": 4,
 "nbformat_minor": 2
}
