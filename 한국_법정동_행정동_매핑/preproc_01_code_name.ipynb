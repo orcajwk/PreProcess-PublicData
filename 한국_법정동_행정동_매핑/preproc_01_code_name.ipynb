{
 "cells": [
  {
   "cell_type": "code",
   "execution_count": null,
   "metadata": {},
   "outputs": [],
   "source": [
    "import PublicDataReader as pdr"
   ]
  },
  {
   "cell_type": "code",
   "execution_count": null,
   "metadata": {},
   "outputs": [],
   "source": [
    "hdong_df = pdr.code_hdong()\n",
    "bdong_df = pdr.code_bdong()"
   ]
  },
  {
   "cell_type": "code",
   "execution_count": null,
   "metadata": {},
   "outputs": [],
   "source": [
    "display(hdong_df.sample(5))\n",
    "display(bdong_df.sample(5))"
   ]
  },
  {
   "cell_type": "code",
   "execution_count": null,
   "metadata": {},
   "outputs": [],
   "source": [
    "hdong_df.to_csv(\"./data/preproc_data/hdong_raw.csv\", index=False)\n",
    "bdong_df.to_csv(\"./data/preproc_data/bdong_raw.csv\", index=False)"
   ]
  },
  {
   "cell_type": "code",
   "execution_count": null,
   "metadata": {},
   "outputs": [],
   "source": []
  },
  {
   "cell_type": "code",
   "execution_count": null,
   "metadata": {},
   "outputs": [],
   "source": [
    "is_nothing = lambda x : len(x) == 0 \n",
    "\n",
    "filtered_hdong_df = hdong_df[hdong_df['말소일자'].apply(is_nothing)].copy()\n",
    "filtered_bdong_df = bdong_df[bdong_df['말소일자'].apply(is_nothing)].copy()"
   ]
  },
  {
   "cell_type": "code",
   "execution_count": null,
   "metadata": {},
   "outputs": [],
   "source": [
    "display(filtered_hdong_df.sample(5))\n",
    "display(filtered_bdong_df.sample(5))"
   ]
  },
  {
   "cell_type": "code",
   "execution_count": null,
   "metadata": {},
   "outputs": [],
   "source": [
    "filtered_hdong_df.to_csv(\"./data/preproc_data/hdong_filtered.csv\", index=False)\n",
    "filtered_bdong_df.to_csv(\"./data/preproc_data/bdong_filtered.csv\", index=False)"
   ]
  },
  {
   "cell_type": "code",
   "execution_count": null,
   "metadata": {},
   "outputs": [],
   "source": [
    "from functools import reduce\n",
    "\n",
    "\n",
    "def concat_column(df, name, columns, sep):\n",
    "    series_with_sep = lambda series: series + sep\n",
    "    df[name] = reduce(lambda x, y: x + y, (series_with_sep(df[col]) for col in columns))\n",
    "    df[name] = df[name].apply(lambda x: x.strip(sep))\n",
    "    return df\n",
    "\n",
    "\n",
    "hdong_col_name = \"행정동명\"\n",
    "hdong_cols = [\"시도명\", \"시군구명\", \"읍면동명\"]\n",
    "\n",
    "bdong_col_name = \"법정동명\"\n",
    "bdong_cols = [\"시도명\", \"시군구명\", \"읍면동명\", \"동리명\"]\n",
    "sep = \"_\"\n",
    "\n",
    "filtered_concated_hdong_df = concat_column(filtered_hdong_df, hdong_col_name, hdong_cols, sep)\n",
    "filtered_concated_bdong_df = concat_column(filtered_bdong_df, bdong_col_name, bdong_cols, sep)"
   ]
  },
  {
   "cell_type": "code",
   "execution_count": null,
   "metadata": {},
   "outputs": [],
   "source": [
    "display(filtered_concated_hdong_df.sample(5))\n",
    "display(filtered_concated_bdong_df.sample(5))"
   ]
  },
  {
   "cell_type": "code",
   "execution_count": null,
   "metadata": {},
   "outputs": [],
   "source": [
    "preproc_hdong = filtered_hdong_df.loc[:, [\"행정동명\", \"행정동코드\"]]\n",
    "preproc_bdong = filtered_bdong_df.loc[:, [\"법정동명\", \"법정동코드\"]]"
   ]
  },
  {
   "cell_type": "code",
   "execution_count": null,
   "metadata": {},
   "outputs": [],
   "source": [
    "display(preproc_hdong.sample(5))\n",
    "display(preproc_bdong.sample(5))"
   ]
  },
  {
   "cell_type": "code",
   "execution_count": null,
   "metadata": {},
   "outputs": [],
   "source": [
    "preproc_hdong.to_csv(\"./data/preproc_data/hdong_filtered_concated.csv\", index=False)\n",
    "preproc_bdong.to_csv(\"./data/preproc_data/bdong_filtered_concated.csv\", index=False)"
   ]
  }
 ],
 "metadata": {
  "kernelspec": {
   "display_name": "quant_trading",
   "language": "python",
   "name": "python3"
  },
  "language_info": {
   "codemirror_mode": {
    "name": "ipython",
    "version": 3
   },
   "file_extension": ".py",
   "mimetype": "text/x-python",
   "name": "python",
   "nbconvert_exporter": "python",
   "pygments_lexer": "ipython3",
   "version": "3.10.13"
  }
 },
 "nbformat": 4,
 "nbformat_minor": 2
}
