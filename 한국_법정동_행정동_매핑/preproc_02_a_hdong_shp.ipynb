{
 "cells": [
  {
   "cell_type": "code",
   "execution_count": null,
   "metadata": {},
   "outputs": [],
   "source": [
    "# This code is for checking \n",
    "# Preprocessing method for 행정동"
   ]
  },
  {
   "cell_type": "code",
   "execution_count": null,
   "metadata": {},
   "outputs": [],
   "source": [
    "from glob import glob\n",
    "\n",
    "import pandas as pd\n",
    "import geopandas as gpd"
   ]
  },
  {
   "cell_type": "code",
   "execution_count": null,
   "metadata": {},
   "outputs": [],
   "source": [
    "def read_gdf(file_path, encoding):\n",
    "    gdf = gpd.read_file(file_path, encoding=encoding)\n",
    "    return gdf\n",
    "\n",
    "\n",
    "def gdf2df(gdf):\n",
    "    return pd.DataFrame(gdf)\n",
    "\n",
    "\n",
    "read_gdf_with_cp949 = lambda file_path: read_gdf(file_path, \"cp949\")\n",
    "read_shp = lambda file_path: gdf2df(read_gdf_with_cp949(file_path))"
   ]
  },
  {
   "cell_type": "code",
   "execution_count": null,
   "metadata": {},
   "outputs": [],
   "source": [
    "file_path = \"data/raw_data/행정동_좌표/BND_ADM_DONG_PG/BND_ADM_DONG_PG.shp\"\n",
    "hdong_shp_df = read_shp(file_path)\n",
    "hdong_shp_df.head()"
   ]
  },
  {
   "cell_type": "code",
   "execution_count": null,
   "metadata": {},
   "outputs": [],
   "source": [
    "def read_excel(file_path, params):\n",
    "    return pd.read_excel(file_path, **params)\n",
    "\n",
    "\n",
    "read_excel_params = {\n",
    "    \"index_col\": None,\n",
    "    \"header\": 1,\n",
    "    \"converters\": {\"시도코드\": str, \"시군구코드\": str, \"읍면동코드\": str},\n",
    "}\n",
    "\n",
    "read_excel_with_params = lambda file_path: read_excel(file_path, read_excel_params)"
   ]
  },
  {
   "cell_type": "code",
   "execution_count": null,
   "metadata": {},
   "outputs": [],
   "source": [
    "file_path = \"./data/raw_data/행정동_좌표/센서스 공간정보 지역 코드.xlsx\"\n",
    "hdong_shp_meta_df = read_excel_with_params(file_path)\n",
    "hdong_shp_meta_df.head()"
   ]
  },
  {
   "cell_type": "code",
   "execution_count": null,
   "metadata": {},
   "outputs": [],
   "source": [
    "hdong_shp_meta_df[\"ADM_CD\"] = (\n",
    "    hdong_shp_meta_df[\"시도코드\"] + hdong_shp_meta_df[\"시군구코드\"] + hdong_shp_meta_df[\"읍면동코드\"]\n",
    ")\n",
    "hdong_shp_meta_df[\"rough_name\"] = hdong_shp_meta_df[\"시도명칭\"] + \"_\" + hdong_shp_meta_df[\"시군구명칭\"].fillna(\"\")"
   ]
  },
  {
   "cell_type": "code",
   "execution_count": null,
   "metadata": {},
   "outputs": [],
   "source": [
    "preproc_hdong_shp_df = hdong_shp_df.merge(hdong_shp_meta_df.loc[:, [\"ADM_CD\", \"rough_name\"]], on=[\"ADM_CD\"], how=\"left\")"
   ]
  },
  {
   "cell_type": "code",
   "execution_count": null,
   "metadata": {},
   "outputs": [],
   "source": [
    "preproc_hdong_shp_df = preproc_hdong_shp_df.loc[:, [\"ADM_NM\", \"ADM_CD\", \"rough_name\", \"geometry\"]]\n",
    "preproc_hdong_shp_df.columns = [\"detail_name\", \"detail_code\", \"rough_name\", \"geometry\"]"
   ]
  },
  {
   "cell_type": "code",
   "execution_count": null,
   "metadata": {},
   "outputs": [],
   "source": [
    "preproc_hdong_shp_df"
   ]
  }
 ],
 "metadata": {
  "kernelspec": {
   "display_name": "quant_trading",
   "language": "python",
   "name": "python3"
  },
  "language_info": {
   "codemirror_mode": {
    "name": "ipython",
    "version": 3
   },
   "file_extension": ".py",
   "mimetype": "text/x-python",
   "name": "python",
   "nbconvert_exporter": "python",
   "pygments_lexer": "ipython3",
   "version": "3.10.13"
  }
 },
 "nbformat": 4,
 "nbformat_minor": 2
}
