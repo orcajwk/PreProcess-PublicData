{
 "cells": [
  {
   "cell_type": "code",
   "execution_count": null,
   "metadata": {},
   "outputs": [],
   "source": [
    "# intersection pct > n"
   ]
  },
  {
   "cell_type": "code",
   "execution_count": null,
   "metadata": {},
   "outputs": [],
   "source": [
    "from glob import glob\n",
    "from collections import defaultdict\n",
    "\n",
    "import pandas as pd\n",
    "import geopandas as gpd"
   ]
  },
  {
   "cell_type": "code",
   "execution_count": null,
   "metadata": {},
   "outputs": [],
   "source": [
    "def read_gdf(file_path, encoding):\n",
    "    gdf = gpd.read_file(file_path, encoding=encoding)\n",
    "    return gdf\n",
    "\n",
    "\n",
    "def gdf2df(gdf):\n",
    "    return pd.DataFrame(gdf)\n",
    "\n",
    "\n",
    "read_gdf_with_cp949 = lambda file_path: read_gdf(file_path, \"cp949\")\n",
    "read_shp = lambda file_path: gdf2df(read_gdf_with_cp949(file_path))"
   ]
  },
  {
   "cell_type": "code",
   "execution_count": null,
   "metadata": {},
   "outputs": [],
   "source": [
    "def read_excel(file_path, params):\n",
    "    return pd.read_excel(file_path, **params)\n",
    "\n",
    "\n",
    "read_excel_params = {\n",
    "    \"index_col\": None,\n",
    "    \"header\": 1,\n",
    "    \"converters\": {\"시도코드\": str, \"시군구코드\": str, \"읍면동코드\": str},\n",
    "}\n",
    "\n",
    "read_excel_with_params = lambda file_path: read_excel(file_path, read_excel_params)"
   ]
  },
  {
   "cell_type": "code",
   "execution_count": null,
   "metadata": {},
   "outputs": [],
   "source": [
    "def read_csv(file_path, params):\n",
    "    return pd.read_csv(file_path, **params)\n",
    "\n",
    "read_csv_params = {\n",
    "    \"dtype\": {\"시도코드\": str, \"시군구코드\": str, \"법정동코드\": str},\n",
    "}\n",
    "\n",
    "read_csv_with_params = lambda file_path: read_csv(file_path, read_csv_params)"
   ]
  },
  {
   "cell_type": "code",
   "execution_count": null,
   "metadata": {},
   "outputs": [],
   "source": [
    "# READ hdong"
   ]
  },
  {
   "cell_type": "code",
   "execution_count": null,
   "metadata": {},
   "outputs": [],
   "source": [
    "## params\n",
    "hdong_shp_file_path = \"data/raw_data/행정동_좌표/BND_ADM_DONG_PG/BND_ADM_DONG_PG.shp\"\n",
    "hdong_excel_file_path = \"./data/raw_data/행정동_좌표/센서스 공간정보 지역 코드.xlsx\"\n",
    "\n",
    "preproc_cols = [\"detail_name\", \"detail_code\", \"rough_name\", \"geometry\"]"
   ]
  },
  {
   "cell_type": "code",
   "execution_count": null,
   "metadata": {},
   "outputs": [],
   "source": [
    "hdong_shp_df = read_shp(hdong_shp_file_path)\n",
    "hdong_shp_meta_df = read_excel_with_params(hdong_excel_file_path)"
   ]
  },
  {
   "cell_type": "code",
   "execution_count": null,
   "metadata": {},
   "outputs": [],
   "source": [
    "hdong_shp_meta_df[\"ADM_CD\"] = (\n",
    "    hdong_shp_meta_df[\"시도코드\"] + hdong_shp_meta_df[\"시군구코드\"] + hdong_shp_meta_df[\"읍면동코드\"]\n",
    ")\n",
    "hdong_shp_meta_df[\"rough_name\"] = hdong_shp_meta_df[\"시도명칭\"] + \"_\" + hdong_shp_meta_df[\"시군구명칭\"].fillna(\"\")\n",
    "hdong_shp_meta_df[\"rough_name\"] = hdong_shp_meta_df[\"rough_name\"].apply(lambda x: x.strip(\"_\"))"
   ]
  },
  {
   "cell_type": "code",
   "execution_count": null,
   "metadata": {},
   "outputs": [],
   "source": [
    "preproc_hdong_shp_df = hdong_shp_df.merge(\n",
    "    hdong_shp_meta_df.loc[:, [\"ADM_CD\", \"rough_name\"]],\n",
    "    on=[\"ADM_CD\"],\n",
    "    how=\"left\"\n",
    "    )\n",
    "\n",
    "preproc_hdong_shp_df = preproc_hdong_shp_df.loc[:, [\"ADM_NM\", \"ADM_CD\", \"rough_name\", \"geometry\"]]\n",
    "preproc_hdong_shp_df.columns = preproc_cols"
   ]
  },
  {
   "cell_type": "code",
   "execution_count": null,
   "metadata": {},
   "outputs": [],
   "source": [
    "# READ bdong"
   ]
  },
  {
   "cell_type": "code",
   "execution_count": null,
   "metadata": {},
   "outputs": [],
   "source": [
    "# Params\n",
    "bdong_shp_paths = glob(\"./data/raw_data/법정동_좌표/*/*.shp\")\n",
    "bdong_csv_path = \"./data/preproc_data/bdong_raw.csv\""
   ]
  },
  {
   "cell_type": "code",
   "execution_count": null,
   "metadata": {},
   "outputs": [],
   "source": [
    "bdong_shp_df = pd.concat([read_shp(shp_path) for shp_path in bdong_shp_paths])\n",
    "bdong_base = read_csv_with_params(bdong_csv_path)"
   ]
  },
  {
   "cell_type": "code",
   "execution_count": null,
   "metadata": {},
   "outputs": [],
   "source": [
    "bdong_base[\"rough_name\"] = bdong_base[\"시도명\"] + \"_\" + bdong_base[\"시군구명\"].fillna(\"\")\n",
    "bdong_base[\"rough_name\"] = bdong_base[\"rough_name\"].apply(lambda x: x.strip(\"_\"))\n",
    "\n",
    "rough_code_name_dict = bdong_base.set_index(\"시군구코드\")[\"rough_name\"].to_dict()"
   ]
  },
  {
   "cell_type": "code",
   "execution_count": null,
   "metadata": {},
   "outputs": [],
   "source": [
    "bdong_shp_df[\"rough_name\"] = bdong_shp_df[\"COL_ADM_SE\"].astype(str).map(rough_code_name_dict)\n",
    "preproc_bdong_shp_df = bdong_shp_df.loc[:, [\"EMD_NM\", \"EMD_CD\", \"rough_name\", \"geometry\"]]\n",
    "preproc_bdong_shp_df.columns = preproc_cols"
   ]
  },
  {
   "cell_type": "code",
   "execution_count": null,
   "metadata": {},
   "outputs": [],
   "source": []
  },
  {
   "cell_type": "code",
   "execution_count": null,
   "metadata": {},
   "outputs": [],
   "source": [
    "# check data"
   ]
  },
  {
   "cell_type": "code",
   "execution_count": null,
   "metadata": {},
   "outputs": [],
   "source": [
    "bdong_shp_df = preproc_bdong_shp_df.copy()\n",
    "hdong_shp_df = preproc_hdong_shp_df.copy()"
   ]
  },
  {
   "cell_type": "code",
   "execution_count": null,
   "metadata": {},
   "outputs": [],
   "source": [
    "hdong_rough_names = set(hdong_shp_df[\"rough_name\"])\n",
    "bdong_rough_names = set(bdong_shp_df[\"rough_name\"])\n",
    "bdong_rough_names - hdong_rough_names, hdong_rough_names - bdong_rough_names"
   ]
  },
  {
   "cell_type": "code",
   "execution_count": null,
   "metadata": {},
   "outputs": [],
   "source": [
    "preproc_1 = lambda x : x.split()[0]\n",
    "\n",
    "hdong_rough_names = set(hdong_shp_df[\"rough_name\"].apply(preproc_1))\n",
    "bdong_rough_names = set(bdong_shp_df[\"rough_name\"])\n",
    "bdong_rough_names - hdong_rough_names, hdong_rough_names - bdong_rough_names"
   ]
  },
  {
   "cell_type": "code",
   "execution_count": null,
   "metadata": {},
   "outputs": [],
   "source": [
    "preproc_1 = lambda x : x.split()[0]\n",
    "preproc_2 = lambda x : x.replace(\"전라북도\",'전북특별자치도')\n",
    "\n",
    "preproc = lambda x : preproc_2(preproc_1(x))\n",
    "\n",
    "hdong_rough_names = set(hdong_shp_df[\"rough_name\"].apply(preproc))\n",
    "bdong_rough_names = set(bdong_shp_df[\"rough_name\"])\n",
    "bdong_rough_names - hdong_rough_names, hdong_rough_names - bdong_rough_names"
   ]
  },
  {
   "cell_type": "code",
   "execution_count": null,
   "metadata": {},
   "outputs": [],
   "source": [
    "preproc_1 = lambda x: x.split()[0]\n",
    "preproc_2 = lambda x: x.replace(\"전라북도\", \"전북특별자치도\")\n",
    "preproc_3 = lambda x: \"세종특별자치시\" if x == \"세종특별자치시_세종시\" else x\n",
    "preproc = lambda x: preproc_3(preproc_2(preproc_1(x)))\n",
    "\n",
    "hdong_rough_names = set(hdong_shp_df[\"rough_name\"].apply(preproc))\n",
    "bdong_rough_names = set(bdong_shp_df[\"rough_name\"])\n",
    "bdong_rough_names - hdong_rough_names, hdong_rough_names - bdong_rough_names"
   ]
  },
  {
   "cell_type": "code",
   "execution_count": null,
   "metadata": {},
   "outputs": [],
   "source": []
  },
  {
   "cell_type": "code",
   "execution_count": null,
   "metadata": {},
   "outputs": [],
   "source": [
    "# rough_name unify\n",
    "\n",
    "hdong_shp_df[\"rough_name\"] = hdong_shp_df[\"rough_name\"].apply(preproc)\n",
    "bdong_shp_df[\"rough_name\"] = bdong_shp_df[\"rough_name\"].apply(preproc)"
   ]
  },
  {
   "cell_type": "code",
   "execution_count": null,
   "metadata": {},
   "outputs": [],
   "source": []
  },
  {
   "cell_type": "code",
   "execution_count": null,
   "metadata": {},
   "outputs": [],
   "source": [
    "# Preproc Done\n",
    "display(hdong_shp_df.sample(5))\n",
    "display(bdong_shp_df.sample(5))"
   ]
  },
  {
   "cell_type": "code",
   "execution_count": null,
   "metadata": {},
   "outputs": [],
   "source": [
    "def calc_intersection_pct(polygon_a, polygon_b):\n",
    "    intersection_area = polygon_a.intersection(polygon_b).area\n",
    "    base_area = min(polygon_a.area,polygon_b.area)\n",
    "    return intersection_area / base_area\n",
    "\n",
    "\n",
    "def get_a2b_dict(a_df, b_df, pct):\n",
    "    a2b_dict = defaultdict(lambda: [])\n",
    "    for a_idx, a_row in a_df.iterrows():\n",
    "        candidate_df = b_df[b_df[\"rough_name\"] == a_row[\"rough_name\"]]\n",
    "        for b_idx, b_row in candidate_df.iterrows():\n",
    "            if calc_intersection_pct(a_row[\"geometry\"], b_row[\"geometry\"]) > pct:\n",
    "                a2b_dict[a_row[\"detail_code\"]].append(b_row[\"detail_code\"])\n",
    "                \n",
    "        if len(a2b_dict[a_row[\"detail_code\"]]) == 0:\n",
    "            a2b_dict[a_row[\"detail_code\"]].append(\"None\")\n",
    "    return a2b_dict"
   ]
  },
  {
   "cell_type": "code",
   "execution_count": null,
   "metadata": {},
   "outputs": [],
   "source": [
    "pct = 0.3\n",
    "bdong2hdong_dict = get_a2b_dict(bdong_shp_df, hdong_shp_df, pct)\n",
    "hdong2bdong_dict = get_a2b_dict(hdong_shp_df, bdong_shp_df, pct)"
   ]
  },
  {
   "cell_type": "code",
   "execution_count": null,
   "metadata": {},
   "outputs": [],
   "source": [
    "len(hdong_shp_df), len(hdong2bdong_dict)"
   ]
  },
  {
   "cell_type": "code",
   "execution_count": null,
   "metadata": {},
   "outputs": [],
   "source": [
    "len(bdong_shp_df), len(bdong2hdong_dict)"
   ]
  },
  {
   "cell_type": "code",
   "execution_count": null,
   "metadata": {},
   "outputs": [],
   "source": [
    "bdong2hdong_df = pd.DataFrame([bdong2hdong_dict]).T.reset_index()\n",
    "bdong2hdong_df.columns = [\"bdong\", \"hdong\"]\n",
    "bdong2hdong_df = bdong2hdong_df.explode(\"hdong\")\n",
    "\n",
    "hdong2bdong_df = pd.DataFrame([hdong2bdong_dict]).T.reset_index()\n",
    "hdong2bdong_df.columns = [\"hdong\", \"bdong\"]\n",
    "hdong2bdong_df = hdong2bdong_df.explode(\"bdong\")"
   ]
  },
  {
   "cell_type": "code",
   "execution_count": null,
   "metadata": {},
   "outputs": [],
   "source": [
    "hdong_code = hdong2bdong_df['hdong'].sample().iloc[0]\n",
    "hdong_code = '11010530'\n",
    "bdong_codes = set(hdong2bdong_df[hdong2bdong_df[\"hdong\"] == hdong_code][\"bdong\"])\n",
    "rough_name = hdong_shp_df[hdong_shp_df[\"detail_code\"] == hdong_code][\"rough_name\"].iloc[0]\n",
    "\n",
    "\n",
    "hdong_tmp = hdong_shp_df[hdong_shp_df[\"detail_code\"] == hdong_code]\n",
    "bdong_tmp = bdong_shp_df[bdong_shp_df[\"detail_code\"].isin(bdong_codes)]\n",
    "base_tmp = hdong_shp_df[hdong_shp_df[\"rough_name\"] == rough_name]\n",
    "bdong_tmp"
   ]
  },
  {
   "cell_type": "code",
   "execution_count": null,
   "metadata": {},
   "outputs": [],
   "source": [
    "# EDA (Check result)"
   ]
  },
  {
   "cell_type": "code",
   "execution_count": null,
   "metadata": {},
   "outputs": [],
   "source": [
    "import matplotlib.pyplot as plt"
   ]
  },
  {
   "cell_type": "code",
   "execution_count": null,
   "metadata": {},
   "outputs": [],
   "source": [
    "fig, ax = plt.subplots(figsize=(6,6))\n",
    "\n",
    "\n",
    "gdf = gpd.GeoDataFrame(base_tmp, geometry=base_tmp[\"geometry\"])\n",
    "gdf.plot(ax=ax, color=\"grey\", label=\"included\")\n",
    "\n",
    "gdf = gpd.GeoDataFrame(bdong_tmp, geometry=bdong_tmp[\"geometry\"])\n",
    "gdf.plot(ax=ax, color=\"blue\", label=\"included\")\n",
    "\n",
    "gdf = gpd.GeoDataFrame(hdong_tmp, geometry=hdong_tmp[\"geometry\"])\n",
    "gdf.plot(ax=ax, color=\"red\", label=\"main\")\n",
    "fig.tight_layout()\n",
    "# ax.set_title()"
   ]
  },
  {
   "cell_type": "code",
   "execution_count": null,
   "metadata": {},
   "outputs": [],
   "source": []
  },
  {
   "cell_type": "code",
   "execution_count": null,
   "metadata": {},
   "outputs": [],
   "source": [
    "# save\n",
    "import json"
   ]
  },
  {
   "cell_type": "code",
   "execution_count": null,
   "metadata": {},
   "outputs": [],
   "source": [
    "with open(\"./data/preproc_data/행정동_법정동_매퍼/by_intersection_n_pct/bdong2hdong_dict.json\", \"w\") as f:\n",
    "    json.dump(bdong2hdong_dict, f, indent=4, ensure_ascii=False)\n",
    "\n",
    "with open(\"./data/preproc_data/행정동_법정동_매퍼/by_intersection_n_pct/hdong2bdong_dict.json\", \"w\") as f:\n",
    "    json.dump(hdong2bdong_dict, f, indent=4, ensure_ascii=False)"
   ]
  },
  {
   "cell_type": "code",
   "execution_count": null,
   "metadata": {},
   "outputs": [],
   "source": [
    "bdong2hdong_df.reset_index(drop=True).to_csv(\n",
    "    \"./data/preproc_data/행정동_법정동_매퍼/by_intersection_n_pct/bdong2hdong_df.csv\", index=False\n",
    ")\n",
    "hdong2bdong_df.reset_index(drop=True).to_csv(\n",
    "    \"./data/preproc_data/행정동_법정동_매퍼/by_intersection_n_pct/hdong2bdong_df.csv\", index=False\n",
    ")"
   ]
  },
  {
   "cell_type": "code",
   "execution_count": null,
   "metadata": {},
   "outputs": [],
   "source": [
    "bdong = bdong_shp_df.copy()\n",
    "hdong = hdong_shp_df.copy()"
   ]
  },
  {
   "cell_type": "code",
   "execution_count": null,
   "metadata": {},
   "outputs": [],
   "source": [
    "bdong[\"total_name\"] = bdong[\"rough_name\"] + \"_\" + bdong[\"detail_name\"]\n",
    "bdong_code_name_dict = bdong.set_index(\"detail_code\")[\"total_name\"].to_dict()"
   ]
  },
  {
   "cell_type": "code",
   "execution_count": null,
   "metadata": {},
   "outputs": [],
   "source": [
    "hdong[\"total_name\"] = hdong[\"rough_name\"] + \"_\" + hdong[\"detail_name\"]\n",
    "hdong_code_name_dict = hdong.set_index(\"detail_code\")[\"total_name\"].to_dict()"
   ]
  },
  {
   "cell_type": "code",
   "execution_count": null,
   "metadata": {},
   "outputs": [],
   "source": [
    "with open(\"./data/preproc_data/행정동_법정동_매퍼/bdong_code_name_dict.json\", \"w\") as f:\n",
    "    json.dump(bdong_code_name_dict, f, indent=4, ensure_ascii=False)\n",
    "\n",
    "with open(\"./data/preproc_data/행정동_법정동_매퍼/hdong_code_name_dict.json\", \"w\") as f:\n",
    "    json.dump(hdong_code_name_dict, f, indent=4, ensure_ascii=False)"
   ]
  },
  {
   "cell_type": "code",
   "execution_count": null,
   "metadata": {},
   "outputs": [],
   "source": [
    "bdong2hdong_df[\"bdong_name\"] = bdong2hdong_df[\"bdong\"].map(bdong_code_name_dict)\n",
    "bdong2hdong_df[\"hdong_name\"] = bdong2hdong_df[\"hdong\"].map(hdong_code_name_dict)\n",
    "hdong2bdong_df[\"hdong_name\"] = hdong2bdong_df[\"hdong\"].map(hdong_code_name_dict)\n",
    "hdong2bdong_df[\"bdong_name\"] = hdong2bdong_df[\"bdong\"].map(bdong_code_name_dict)"
   ]
  },
  {
   "cell_type": "code",
   "execution_count": null,
   "metadata": {},
   "outputs": [],
   "source": [
    "display(hdong2bdong_df.sample(5))\n",
    "display(bdong2hdong_df.sample(5))"
   ]
  },
  {
   "cell_type": "code",
   "execution_count": null,
   "metadata": {},
   "outputs": [],
   "source": []
  }
 ],
 "metadata": {
  "kernelspec": {
   "display_name": "quant_trading",
   "language": "python",
   "name": "python3"
  },
  "language_info": {
   "codemirror_mode": {
    "name": "ipython",
    "version": 3
   },
   "file_extension": ".py",
   "mimetype": "text/x-python",
   "name": "python",
   "nbconvert_exporter": "python",
   "pygments_lexer": "ipython3",
   "version": "3.10.13"
  }
 },
 "nbformat": 4,
 "nbformat_minor": 2
}
