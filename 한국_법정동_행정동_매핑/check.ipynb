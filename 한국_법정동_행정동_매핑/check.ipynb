{
 "cells": [
  {
   "cell_type": "code",
   "execution_count": null,
   "metadata": {},
   "outputs": [],
   "source": [
    "import json\n",
    "import pandas as pd"
   ]
  },
  {
   "cell_type": "code",
   "execution_count": null,
   "metadata": {},
   "outputs": [],
   "source": [
    "bdong_filtered = pd.read_csv(\"./data/preproc_data/bdong_filtered.csv\")\n",
    "bdong_filtered_concated = pd.read_csv(\"./data/preproc_data/bdong_filtered_concated.csv\")\n",
    "\n",
    "hdong_filtered = pd.read_csv(\"./data/preproc_data/hdong_filtered.csv\")\n",
    "hdong_filtered_concated = pd.read_csv(\"./data/preproc_data/hdong_filtered_concated.csv\")"
   ]
  },
  {
   "cell_type": "code",
   "execution_count": null,
   "metadata": {},
   "outputs": [],
   "source": [
    "print(\"법정동 필터된 데이터\")\n",
    "display(bdong_filtered.sample(5))\n",
    "print(\"행정동 필터된 데이터\")\n",
    "display(hdong_filtered.sample(5))\n",
    "print(\"법정동 필터 후 합친 데이터\")\n",
    "display(bdong_filtered_concated.sample(5))\n",
    "print(\"법정동 필터 후 합친 데이터\")\n",
    "display(hdong_filtered_concated.sample(5))"
   ]
  },
  {
   "cell_type": "code",
   "execution_count": null,
   "metadata": {},
   "outputs": [],
   "source": [
    "my_dict = dict()"
   ]
  },
  {
   "cell_type": "code",
   "execution_count": null,
   "metadata": {},
   "outputs": [],
   "source": [
    "bdong2hdong_df = pd.read_csv(\n",
    "    \"data/preproc_data/행정동_법정동_매퍼/by_intersection_n_pct/bdong2hdong_df.csv\", dtype={\"bdong\": str, \"hdong\": str}\n",
    ")\n",
    "\n",
    "hdong2bdong_df = pd.read_csv(\n",
    "    \"data/preproc_data/행정동_법정동_매퍼/by_intersection_n_pct/hdong2bdong_df.csv\", dtype={\"bdong\": str, \"hdong\": str}\n",
    ")"
   ]
  },
  {
   "cell_type": "code",
   "execution_count": null,
   "metadata": {},
   "outputs": [],
   "source": [
    "bdong2hdong_df"
   ]
  },
  {
   "cell_type": "code",
   "execution_count": null,
   "metadata": {},
   "outputs": [],
   "source": [
    "with open(\"./data/preproc_data/행정동_법정동_매퍼/bdong_code_name_dict.json\", \"r\") as f:\n",
    "    bdong_code_name_dict = json.load(f)\n",
    "\n",
    "with open(\"./data/preproc_data/행정동_법정동_매퍼/hdong_code_name_dict.json\", \"r\") as f:\n",
    "    hdong_code_name_dict = json.load(f)"
   ]
  },
  {
   "cell_type": "code",
   "execution_count": null,
   "metadata": {},
   "outputs": [],
   "source": [
    "bdong2hdong_df[\"bdong_name\"] = bdong2hdong_df[\"bdong\"].map(bdong_code_name_dict)\n",
    "bdong2hdong_df[\"hdong_name\"] = bdong2hdong_df[\"hdong\"].map(hdong_code_name_dict)"
   ]
  },
  {
   "cell_type": "code",
   "execution_count": null,
   "metadata": {},
   "outputs": [],
   "source": [
    "bdong2hdong_df = bdong2hdong_df.loc[:,['hdong','hdong_name','bdong','bdong_name']]"
   ]
  },
  {
   "cell_type": "code",
   "execution_count": null,
   "metadata": {},
   "outputs": [],
   "source": []
  },
  {
   "cell_type": "code",
   "execution_count": null,
   "metadata": {},
   "outputs": [],
   "source": [
    "bdong2hdong_df.sample(10)"
   ]
  },
  {
   "cell_type": "code",
   "execution_count": null,
   "metadata": {},
   "outputs": [],
   "source": [
    "def find_bdong_from_hdong(bdong2hdong_df, bdong):\n",
    "    return set(bdong2hdong_df[bdong2hdong_df['bdong'] == bdong]['hdong_name'])\n",
    "\n",
    "def find_hdong_from_bdong(bdong2hdong_df, bdong):\n",
    "    return set(bdong2hdong_df[bdong2hdong_df['hdong'] == bdong]['bdong_name'])"
   ]
  },
  {
   "cell_type": "code",
   "execution_count": null,
   "metadata": {},
   "outputs": [],
   "source": [
    "# 종로구 사직동(행정동으로 법정동 검색)\n",
    "find_hdong_from_bdong(bdong2hdong_df,'11010530')"
   ]
  },
  {
   "cell_type": "code",
   "execution_count": null,
   "metadata": {},
   "outputs": [],
   "source": [
    "# 관악구 신림동 (법정동으로 행정동 검색)\n",
    "find_bdong_from_hdong(bdong2hdong_df,'11620102')"
   ]
  }
 ],
 "metadata": {
  "kernelspec": {
   "display_name": "quant_trading",
   "language": "python",
   "name": "python3"
  },
  "language_info": {
   "codemirror_mode": {
    "name": "ipython",
    "version": 3
   },
   "file_extension": ".py",
   "mimetype": "text/x-python",
   "name": "python",
   "nbconvert_exporter": "python",
   "pygments_lexer": "ipython3",
   "version": "3.10.13"
  }
 },
 "nbformat": 4,
 "nbformat_minor": 2
}
