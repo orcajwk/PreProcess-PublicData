{
 "cells": [
  {
   "cell_type": "code",
   "execution_count": 1,
   "metadata": {},
   "outputs": [],
   "source": [
    "# This code is for checking \n",
    "# Preprocessing method for 법정동"
   ]
  },
  {
   "cell_type": "code",
   "execution_count": 2,
   "metadata": {},
   "outputs": [],
   "source": [
    "from glob import glob\n",
    "\n",
    "import pandas as pd\n",
    "import geopandas as gpd"
   ]
  },
  {
   "cell_type": "code",
   "execution_count": 3,
   "metadata": {},
   "outputs": [
    {
     "data": {
      "text/plain": [
       "['./data/raw_data/법정동_좌표/LSMD_ADM_SECT_UMD_충남/LSMD_ADM_SECT_UMD_44_202403.shp',\n",
       " './data/raw_data/법정동_좌표/LSMD_ADM_SECT_UMD_울산/LSMD_ADM_SECT_UMD_31_202403.shp',\n",
       " './data/raw_data/법정동_좌표/LSMD_ADM_SECT_UMD_경남/LSMD_ADM_SECT_UMD_48_202403.shp',\n",
       " './data/raw_data/법정동_좌표/LSMD_ADM_SECT_UMD_대구/LSMD_ADM_SECT_UMD_27_202403.shp',\n",
       " './data/raw_data/법정동_좌표/LSMD_ADM_SECT_UMD_부산/LSMD_ADM_SECT_UMD_26_202403.shp',\n",
       " './data/raw_data/법정동_좌표/LSMD_ADM_SECT_UMD_서울/LSMD_ADM_SECT_UMD_11_202403.shp',\n",
       " './data/raw_data/법정동_좌표/LSMD_ADM_SECT_UMD_대전/LSMD_ADM_SECT_UMD_30_202403.shp',\n",
       " './data/raw_data/법정동_좌표/LSMD_ADM_SECT_UMD_전남/LSMD_ADM_SECT_UMD_46_202403.shp',\n",
       " './data/raw_data/법정동_좌표/LSMD_ADM_SECT_UMD_전북특별자치도/LSMD_ADM_SECT_UMD_52_202403.shp',\n",
       " './data/raw_data/법정동_좌표/LSMD_ADM_SECT_UMD_강원특별자치도/LSMD_ADM_SECT_UMD_51_202403.shp',\n",
       " './data/raw_data/법정동_좌표/LSMD_ADM_SECT_UMD_경북/LSMD_ADM_SECT_UMD_47_202403.shp',\n",
       " './data/raw_data/법정동_좌표/LSMD_ADM_SECT_UMD_충북/LSMD_ADM_SECT_UMD_43_202403.shp',\n",
       " './data/raw_data/법정동_좌표/LSMD_ADM_SECT_UMD_인천/LSMD_ADM_SECT_UMD_28_202403.shp',\n",
       " './data/raw_data/법정동_좌표/LSMD_ADM_SECT_UMD_경기/LSMD_ADM_SECT_UMD_41_202403.shp',\n",
       " './data/raw_data/법정동_좌표/LSMD_ADM_SECT_UMD_제주/LSMD_ADM_SECT_UMD_50_202403.shp',\n",
       " './data/raw_data/법정동_좌표/LSMD_ADM_SECT_UMD_세종/LSMD_ADM_SECT_UMD_36_202403.shp',\n",
       " './data/raw_data/법정동_좌표/LSMD_ADM_SECT_UMD_광주/LSMD_ADM_SECT_UMD_29_202403.shp']"
      ]
     },
     "execution_count": 3,
     "metadata": {},
     "output_type": "execute_result"
    }
   ],
   "source": [
    "bdong_shp_paths = glob(\"./data/raw_data/법정동_좌표/*/*.shp\")\n",
    "bdong_shp_paths"
   ]
  },
  {
   "cell_type": "code",
   "execution_count": 4,
   "metadata": {},
   "outputs": [],
   "source": [
    "def read_gdf(file_path, encoding):\n",
    "    gdf = gpd.read_file(file_path, encoding=encoding)\n",
    "    return gdf\n",
    "\n",
    "\n",
    "def gdf2df(gdf):\n",
    "    return pd.DataFrame(gdf)\n",
    "\n",
    "\n",
    "read_gdf_with_cp949 = lambda file_path: read_gdf(file_path, \"cp949\")\n",
    "read_shp = lambda file_path: gdf2df(read_gdf_with_cp949(file_path))"
   ]
  },
  {
   "cell_type": "code",
   "execution_count": 5,
   "metadata": {},
   "outputs": [
    {
     "data": {
      "text/html": [
       "<div>\n",
       "<style scoped>\n",
       "    .dataframe tbody tr th:only-of-type {\n",
       "        vertical-align: middle;\n",
       "    }\n",
       "\n",
       "    .dataframe tbody tr th {\n",
       "        vertical-align: top;\n",
       "    }\n",
       "\n",
       "    .dataframe thead th {\n",
       "        text-align: right;\n",
       "    }\n",
       "</style>\n",
       "<table border=\"1\" class=\"dataframe\">\n",
       "  <thead>\n",
       "    <tr style=\"text-align: right;\">\n",
       "      <th></th>\n",
       "      <th>EMD_CD</th>\n",
       "      <th>COL_ADM_SE</th>\n",
       "      <th>EMD_NM</th>\n",
       "      <th>SGG_OID</th>\n",
       "      <th>geometry</th>\n",
       "    </tr>\n",
       "  </thead>\n",
       "  <tbody>\n",
       "    <tr>\n",
       "      <th>0</th>\n",
       "      <td>44131101</td>\n",
       "      <td>44130</td>\n",
       "      <td>대흥동</td>\n",
       "      <td>8151</td>\n",
       "      <td>POLYGON ((213016.846 467225.891, 213018.764 46...</td>\n",
       "    </tr>\n",
       "    <tr>\n",
       "      <th>1</th>\n",
       "      <td>44131102</td>\n",
       "      <td>44130</td>\n",
       "      <td>성황동</td>\n",
       "      <td>8185</td>\n",
       "      <td>POLYGON ((213172.114 468227.275, 213176.304 46...</td>\n",
       "    </tr>\n",
       "    <tr>\n",
       "      <th>2</th>\n",
       "      <td>44131103</td>\n",
       "      <td>44130</td>\n",
       "      <td>문화동</td>\n",
       "      <td>8183</td>\n",
       "      <td>POLYGON ((213242.494 467608.139, 213242.699 46...</td>\n",
       "    </tr>\n",
       "    <tr>\n",
       "      <th>3</th>\n",
       "      <td>44131104</td>\n",
       "      <td>44130</td>\n",
       "      <td>사직동</td>\n",
       "      <td>108</td>\n",
       "      <td>POLYGON ((213355.277 466524.999, 213333.886 46...</td>\n",
       "    </tr>\n",
       "    <tr>\n",
       "      <th>4</th>\n",
       "      <td>44131105</td>\n",
       "      <td>44130</td>\n",
       "      <td>영성동</td>\n",
       "      <td>8010</td>\n",
       "      <td>POLYGON ((213333.372 466707.548, 213333.413 46...</td>\n",
       "    </tr>\n",
       "  </tbody>\n",
       "</table>\n",
       "</div>"
      ],
      "text/plain": [
       "     EMD_CD COL_ADM_SE EMD_NM  SGG_OID  \\\n",
       "0  44131101      44130    대흥동     8151   \n",
       "1  44131102      44130    성황동     8185   \n",
       "2  44131103      44130    문화동     8183   \n",
       "3  44131104      44130    사직동      108   \n",
       "4  44131105      44130    영성동     8010   \n",
       "\n",
       "                                            geometry  \n",
       "0  POLYGON ((213016.846 467225.891, 213018.764 46...  \n",
       "1  POLYGON ((213172.114 468227.275, 213176.304 46...  \n",
       "2  POLYGON ((213242.494 467608.139, 213242.699 46...  \n",
       "3  POLYGON ((213355.277 466524.999, 213333.886 46...  \n",
       "4  POLYGON ((213333.372 466707.548, 213333.413 46...  "
      ]
     },
     "execution_count": 5,
     "metadata": {},
     "output_type": "execute_result"
    }
   ],
   "source": [
    "bdong_shp_df = pd.concat([read_shp(shp_path) for shp_path in bdong_shp_paths])\n",
    "bdong_shp_df.head()"
   ]
  },
  {
   "cell_type": "code",
   "execution_count": 6,
   "metadata": {},
   "outputs": [],
   "source": [
    "def read_csv(file_path, params):\n",
    "    return pd.read_csv(file_path, **params)\n",
    "\n",
    "read_csv_params = {\n",
    "    \"dtype\": {\"시도코드\": str, \"시군구코드\": str, \"법정동코드\": str},\n",
    "}\n",
    "\n",
    "read_csv_with_params = lambda file_path: read_csv(file_path, read_csv_params)"
   ]
  },
  {
   "cell_type": "code",
   "execution_count": 7,
   "metadata": {},
   "outputs": [
    {
     "data": {
      "text/html": [
       "<div>\n",
       "<style scoped>\n",
       "    .dataframe tbody tr th:only-of-type {\n",
       "        vertical-align: middle;\n",
       "    }\n",
       "\n",
       "    .dataframe tbody tr th {\n",
       "        vertical-align: top;\n",
       "    }\n",
       "\n",
       "    .dataframe thead th {\n",
       "        text-align: right;\n",
       "    }\n",
       "</style>\n",
       "<table border=\"1\" class=\"dataframe\">\n",
       "  <thead>\n",
       "    <tr style=\"text-align: right;\">\n",
       "      <th></th>\n",
       "      <th>시도코드</th>\n",
       "      <th>시도명</th>\n",
       "      <th>시군구코드</th>\n",
       "      <th>시군구명</th>\n",
       "      <th>법정동코드</th>\n",
       "      <th>읍면동명</th>\n",
       "      <th>동리명</th>\n",
       "      <th>생성일자</th>\n",
       "      <th>말소일자</th>\n",
       "    </tr>\n",
       "  </thead>\n",
       "  <tbody>\n",
       "    <tr>\n",
       "      <th>0</th>\n",
       "      <td>11</td>\n",
       "      <td>서울특별시</td>\n",
       "      <td>11000</td>\n",
       "      <td>NaN</td>\n",
       "      <td>1100000000</td>\n",
       "      <td>NaN</td>\n",
       "      <td>NaN</td>\n",
       "      <td>19880423</td>\n",
       "      <td>NaN</td>\n",
       "    </tr>\n",
       "    <tr>\n",
       "      <th>1</th>\n",
       "      <td>11</td>\n",
       "      <td>서울특별시</td>\n",
       "      <td>11110</td>\n",
       "      <td>종로구</td>\n",
       "      <td>1111000000</td>\n",
       "      <td>NaN</td>\n",
       "      <td>NaN</td>\n",
       "      <td>19880423</td>\n",
       "      <td>NaN</td>\n",
       "    </tr>\n",
       "    <tr>\n",
       "      <th>2</th>\n",
       "      <td>11</td>\n",
       "      <td>서울특별시</td>\n",
       "      <td>11110</td>\n",
       "      <td>종로구</td>\n",
       "      <td>1111010100</td>\n",
       "      <td>청운동</td>\n",
       "      <td>NaN</td>\n",
       "      <td>19880423</td>\n",
       "      <td>NaN</td>\n",
       "    </tr>\n",
       "    <tr>\n",
       "      <th>3</th>\n",
       "      <td>11</td>\n",
       "      <td>서울특별시</td>\n",
       "      <td>11110</td>\n",
       "      <td>종로구</td>\n",
       "      <td>1111010200</td>\n",
       "      <td>신교동</td>\n",
       "      <td>NaN</td>\n",
       "      <td>19880423</td>\n",
       "      <td>NaN</td>\n",
       "    </tr>\n",
       "    <tr>\n",
       "      <th>4</th>\n",
       "      <td>11</td>\n",
       "      <td>서울특별시</td>\n",
       "      <td>11110</td>\n",
       "      <td>종로구</td>\n",
       "      <td>1111010300</td>\n",
       "      <td>궁정동</td>\n",
       "      <td>NaN</td>\n",
       "      <td>19880423</td>\n",
       "      <td>NaN</td>\n",
       "    </tr>\n",
       "  </tbody>\n",
       "</table>\n",
       "</div>"
      ],
      "text/plain": [
       "  시도코드    시도명  시군구코드 시군구명       법정동코드 읍면동명  동리명      생성일자  말소일자\n",
       "0   11  서울특별시  11000  NaN  1100000000  NaN  NaN  19880423   NaN\n",
       "1   11  서울특별시  11110  종로구  1111000000  NaN  NaN  19880423   NaN\n",
       "2   11  서울특별시  11110  종로구  1111010100  청운동  NaN  19880423   NaN\n",
       "3   11  서울특별시  11110  종로구  1111010200  신교동  NaN  19880423   NaN\n",
       "4   11  서울특별시  11110  종로구  1111010300  궁정동  NaN  19880423   NaN"
      ]
     },
     "execution_count": 7,
     "metadata": {},
     "output_type": "execute_result"
    }
   ],
   "source": [
    "file_path = \"./data/preproc_data/bdong_raw.csv\"\n",
    "bdong_base = read_csv_with_params(file_path)\n",
    "bdong_base.head()"
   ]
  },
  {
   "cell_type": "code",
   "execution_count": 8,
   "metadata": {},
   "outputs": [],
   "source": [
    "bdong_base[\"rough_name\"] = bdong_base[\"시도명\"] + \"_\" + bdong_base[\"시군구명\"].fillna(\"\")\n",
    "rough_code_name_dict = bdong_base.set_index(\"시군구코드\")['rough_name'].to_dict()"
   ]
  },
  {
   "cell_type": "code",
   "execution_count": 9,
   "metadata": {},
   "outputs": [],
   "source": [
    "bdong_shp_df[\"rough_name\"] = bdong_shp_df[\"COL_ADM_SE\"].astype(str).map(rough_code_name_dict)"
   ]
  },
  {
   "cell_type": "code",
   "execution_count": 10,
   "metadata": {},
   "outputs": [],
   "source": [
    "preproc_bdong_shp_df = bdong_shp_df.loc[:,['EMD_NM','EMD_CD','rough_name','geometry']]\n",
    "preproc_bdong_shp_df.columns = [\"detail_name\", \"detail_code\", \"rough_name\", \"geometry\"]"
   ]
  }
 ],
 "metadata": {
  "kernelspec": {
   "display_name": "quant_trading",
   "language": "python",
   "name": "python3"
  },
  "language_info": {
   "codemirror_mode": {
    "name": "ipython",
    "version": 3
   },
   "file_extension": ".py",
   "mimetype": "text/x-python",
   "name": "python",
   "nbconvert_exporter": "python",
   "pygments_lexer": "ipython3",
   "version": "3.10.13"
  }
 },
 "nbformat": 4,
 "nbformat_minor": 2
}
