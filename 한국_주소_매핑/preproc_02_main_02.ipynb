{
 "cells": [
  {
   "cell_type": "code",
   "execution_count": 1,
   "metadata": {},
   "outputs": [],
   "source": [
    "# intersection pct > n"
   ]
  },
  {
   "cell_type": "code",
   "execution_count": 2,
   "metadata": {},
   "outputs": [],
   "source": [
    "from glob import glob\n",
    "from collections import defaultdict\n",
    "\n",
    "import pandas as pd\n",
    "import geopandas as gpd"
   ]
  },
  {
   "cell_type": "code",
   "execution_count": 3,
   "metadata": {},
   "outputs": [],
   "source": [
    "def read_gdf(file_path, encoding):\n",
    "    gdf = gpd.read_file(file_path, encoding=encoding)\n",
    "    return gdf\n",
    "\n",
    "\n",
    "def gdf2df(gdf):\n",
    "    return pd.DataFrame(gdf)\n",
    "\n",
    "\n",
    "read_gdf_with_cp949 = lambda file_path: read_gdf(file_path, \"cp949\")\n",
    "read_shp = lambda file_path: gdf2df(read_gdf_with_cp949(file_path))"
   ]
  },
  {
   "cell_type": "code",
   "execution_count": 4,
   "metadata": {},
   "outputs": [],
   "source": [
    "def read_excel(file_path, params):\n",
    "    return pd.read_excel(file_path, **params)\n",
    "\n",
    "\n",
    "read_excel_params = {\n",
    "    \"index_col\": None,\n",
    "    \"header\": 1,\n",
    "    \"converters\": {\"시도코드\": str, \"시군구코드\": str, \"읍면동코드\": str},\n",
    "}\n",
    "\n",
    "read_excel_with_params = lambda file_path: read_excel(file_path, read_excel_params)"
   ]
  },
  {
   "cell_type": "code",
   "execution_count": 5,
   "metadata": {},
   "outputs": [],
   "source": [
    "def read_csv(file_path, params):\n",
    "    return pd.read_csv(file_path, **params)\n",
    "\n",
    "read_csv_params = {\n",
    "    \"dtype\": {\"시도코드\": str, \"시군구코드\": str, \"법정동코드\": str},\n",
    "}\n",
    "\n",
    "read_csv_with_params = lambda file_path: read_csv(file_path, read_csv_params)"
   ]
  },
  {
   "cell_type": "code",
   "execution_count": 6,
   "metadata": {},
   "outputs": [],
   "source": [
    "# READ hdong"
   ]
  },
  {
   "cell_type": "code",
   "execution_count": 7,
   "metadata": {},
   "outputs": [],
   "source": [
    "## params\n",
    "hdong_shp_file_path = \"data/raw_data/행정동_좌표/BND_ADM_DONG_PG/BND_ADM_DONG_PG.shp\"\n",
    "hdong_excel_file_path = \"./data/raw_data/행정동_좌표/센서스 공간정보 지역 코드.xlsx\"\n",
    "\n",
    "preproc_cols = [\"detail_name\", \"detail_code\", \"rough_name\", \"geometry\"]"
   ]
  },
  {
   "cell_type": "code",
   "execution_count": 8,
   "metadata": {},
   "outputs": [],
   "source": [
    "hdong_shp_df = read_shp(hdong_shp_file_path)\n",
    "hdong_shp_meta_df = read_excel_with_params(hdong_excel_file_path)"
   ]
  },
  {
   "cell_type": "code",
   "execution_count": 9,
   "metadata": {},
   "outputs": [],
   "source": [
    "hdong_shp_meta_df[\"ADM_CD\"] = (\n",
    "    hdong_shp_meta_df[\"시도코드\"] + hdong_shp_meta_df[\"시군구코드\"] + hdong_shp_meta_df[\"읍면동코드\"]\n",
    ")\n",
    "hdong_shp_meta_df[\"rough_name\"] = hdong_shp_meta_df[\"시도명칭\"] + \"_\" + hdong_shp_meta_df[\"시군구명칭\"].fillna(\"\")\n",
    "hdong_shp_meta_df[\"rough_name\"] = hdong_shp_meta_df[\"rough_name\"].apply(lambda x: x.strip(\"_\"))"
   ]
  },
  {
   "cell_type": "code",
   "execution_count": 10,
   "metadata": {},
   "outputs": [],
   "source": [
    "preproc_hdong_shp_df = hdong_shp_df.merge(\n",
    "    hdong_shp_meta_df.loc[:, [\"ADM_CD\", \"rough_name\"]],\n",
    "    on=[\"ADM_CD\"],\n",
    "    how=\"left\"\n",
    "    )\n",
    "\n",
    "preproc_hdong_shp_df = preproc_hdong_shp_df.loc[:, [\"ADM_NM\", \"ADM_CD\", \"rough_name\", \"geometry\"]]\n",
    "preproc_hdong_shp_df.columns = preproc_cols"
   ]
  },
  {
   "cell_type": "code",
   "execution_count": 11,
   "metadata": {},
   "outputs": [],
   "source": [
    "# READ bdong"
   ]
  },
  {
   "cell_type": "code",
   "execution_count": 12,
   "metadata": {},
   "outputs": [],
   "source": [
    "# Params\n",
    "bdong_shp_paths = glob(\"./data/raw_data/법정동_좌표/*/*.shp\")\n",
    "bdong_csv_path = \"./data/preproc_data/bdong_raw.csv\""
   ]
  },
  {
   "cell_type": "code",
   "execution_count": 13,
   "metadata": {},
   "outputs": [],
   "source": [
    "bdong_shp_df = pd.concat([read_shp(shp_path) for shp_path in bdong_shp_paths])\n",
    "bdong_base = read_csv_with_params(bdong_csv_path)"
   ]
  },
  {
   "cell_type": "code",
   "execution_count": 14,
   "metadata": {},
   "outputs": [],
   "source": [
    "bdong_base[\"rough_name\"] = bdong_base[\"시도명\"] + \"_\" + bdong_base[\"시군구명\"].fillna(\"\")\n",
    "bdong_base[\"rough_name\"] = bdong_base[\"rough_name\"].apply(lambda x: x.strip(\"_\"))\n",
    "\n",
    "rough_code_name_dict = bdong_base.set_index(\"시군구코드\")[\"rough_name\"].to_dict()"
   ]
  },
  {
   "cell_type": "code",
   "execution_count": 15,
   "metadata": {},
   "outputs": [],
   "source": [
    "bdong_shp_df[\"rough_name\"] = bdong_shp_df[\"COL_ADM_SE\"].astype(str).map(rough_code_name_dict)\n",
    "preproc_bdong_shp_df = bdong_shp_df.loc[:, [\"EMD_NM\", \"EMD_CD\", \"rough_name\", \"geometry\"]]\n",
    "preproc_bdong_shp_df.columns = preproc_cols"
   ]
  },
  {
   "cell_type": "code",
   "execution_count": null,
   "metadata": {},
   "outputs": [],
   "source": []
  },
  {
   "cell_type": "code",
   "execution_count": 16,
   "metadata": {},
   "outputs": [],
   "source": [
    "# check data"
   ]
  },
  {
   "cell_type": "code",
   "execution_count": 17,
   "metadata": {},
   "outputs": [],
   "source": [
    "bdong_shp_df = preproc_bdong_shp_df.copy()\n",
    "hdong_shp_df = preproc_hdong_shp_df.copy()"
   ]
  },
  {
   "cell_type": "code",
   "execution_count": 18,
   "metadata": {},
   "outputs": [
    {
     "data": {
      "text/plain": [
       "({'경기도_고양시',\n",
       "  '경기도_성남시',\n",
       "  '경기도_수원시',\n",
       "  '경기도_안산시',\n",
       "  '경기도_안양시',\n",
       "  '경기도_용인시',\n",
       "  '경상남도_창원시',\n",
       "  '경상북도_포항시',\n",
       "  '세종특별자치시',\n",
       "  '전북특별자치도_고창군',\n",
       "  '전북특별자치도_군산시',\n",
       "  '전북특별자치도_김제시',\n",
       "  '전북특별자치도_남원시',\n",
       "  '전북특별자치도_무주군',\n",
       "  '전북특별자치도_부안군',\n",
       "  '전북특별자치도_순창군',\n",
       "  '전북특별자치도_완주군',\n",
       "  '전북특별자치도_익산시',\n",
       "  '전북특별자치도_임실군',\n",
       "  '전북특별자치도_장수군',\n",
       "  '전북특별자치도_전주시',\n",
       "  '전북특별자치도_정읍시',\n",
       "  '전북특별자치도_진안군',\n",
       "  '충청남도_천안시',\n",
       "  '충청북도_청주시'},\n",
       " {'경기도_고양시 덕양구',\n",
       "  '경기도_고양시 일산동구',\n",
       "  '경기도_고양시 일산서구',\n",
       "  '경기도_성남시 분당구',\n",
       "  '경기도_성남시 수정구',\n",
       "  '경기도_성남시 중원구',\n",
       "  '경기도_수원시 권선구',\n",
       "  '경기도_수원시 영통구',\n",
       "  '경기도_수원시 장안구',\n",
       "  '경기도_수원시 팔달구',\n",
       "  '경기도_안산시 단원구',\n",
       "  '경기도_안산시 상록구',\n",
       "  '경기도_안양시 동안구',\n",
       "  '경기도_안양시 만안구',\n",
       "  '경기도_용인시 기흥구',\n",
       "  '경기도_용인시 수지구',\n",
       "  '경기도_용인시 처인구',\n",
       "  '경상남도_창원시 마산합포구',\n",
       "  '경상남도_창원시 마산회원구',\n",
       "  '경상남도_창원시 성산구',\n",
       "  '경상남도_창원시 의창구',\n",
       "  '경상남도_창원시 진해구',\n",
       "  '경상북도_포항시 남구',\n",
       "  '경상북도_포항시 북구',\n",
       "  '세종특별자치시_세종시',\n",
       "  '전라북도_고창군',\n",
       "  '전라북도_군산시',\n",
       "  '전라북도_김제시',\n",
       "  '전라북도_남원시',\n",
       "  '전라북도_무주군',\n",
       "  '전라북도_부안군',\n",
       "  '전라북도_순창군',\n",
       "  '전라북도_완주군',\n",
       "  '전라북도_익산시',\n",
       "  '전라북도_임실군',\n",
       "  '전라북도_장수군',\n",
       "  '전라북도_전주시 덕진구',\n",
       "  '전라북도_전주시 완산구',\n",
       "  '전라북도_정읍시',\n",
       "  '전라북도_진안군',\n",
       "  '충청남도_천안시 동남구',\n",
       "  '충청남도_천안시 서북구',\n",
       "  '충청북도_청주시 상당구',\n",
       "  '충청북도_청주시 서원구',\n",
       "  '충청북도_청주시 청원구',\n",
       "  '충청북도_청주시 흥덕구'})"
      ]
     },
     "execution_count": 18,
     "metadata": {},
     "output_type": "execute_result"
    }
   ],
   "source": [
    "hdong_rough_names = set(hdong_shp_df[\"rough_name\"])\n",
    "bdong_rough_names = set(bdong_shp_df[\"rough_name\"])\n",
    "bdong_rough_names - hdong_rough_names, hdong_rough_names - bdong_rough_names"
   ]
  },
  {
   "cell_type": "code",
   "execution_count": 19,
   "metadata": {},
   "outputs": [
    {
     "data": {
      "text/plain": [
       "({'세종특별자치시',\n",
       "  '전북특별자치도_고창군',\n",
       "  '전북특별자치도_군산시',\n",
       "  '전북특별자치도_김제시',\n",
       "  '전북특별자치도_남원시',\n",
       "  '전북특별자치도_무주군',\n",
       "  '전북특별자치도_부안군',\n",
       "  '전북특별자치도_순창군',\n",
       "  '전북특별자치도_완주군',\n",
       "  '전북특별자치도_익산시',\n",
       "  '전북특별자치도_임실군',\n",
       "  '전북특별자치도_장수군',\n",
       "  '전북특별자치도_전주시',\n",
       "  '전북특별자치도_정읍시',\n",
       "  '전북특별자치도_진안군'},\n",
       " {'세종특별자치시_세종시',\n",
       "  '전라북도_고창군',\n",
       "  '전라북도_군산시',\n",
       "  '전라북도_김제시',\n",
       "  '전라북도_남원시',\n",
       "  '전라북도_무주군',\n",
       "  '전라북도_부안군',\n",
       "  '전라북도_순창군',\n",
       "  '전라북도_완주군',\n",
       "  '전라북도_익산시',\n",
       "  '전라북도_임실군',\n",
       "  '전라북도_장수군',\n",
       "  '전라북도_전주시',\n",
       "  '전라북도_정읍시',\n",
       "  '전라북도_진안군'})"
      ]
     },
     "execution_count": 19,
     "metadata": {},
     "output_type": "execute_result"
    }
   ],
   "source": [
    "preproc_1 = lambda x : x.split()[0]\n",
    "\n",
    "hdong_rough_names = set(hdong_shp_df[\"rough_name\"].apply(preproc_1))\n",
    "bdong_rough_names = set(bdong_shp_df[\"rough_name\"])\n",
    "bdong_rough_names - hdong_rough_names, hdong_rough_names - bdong_rough_names"
   ]
  },
  {
   "cell_type": "code",
   "execution_count": 20,
   "metadata": {},
   "outputs": [
    {
     "data": {
      "text/plain": [
       "({'세종특별자치시'}, {'세종특별자치시_세종시'})"
      ]
     },
     "execution_count": 20,
     "metadata": {},
     "output_type": "execute_result"
    }
   ],
   "source": [
    "preproc_1 = lambda x : x.split()[0]\n",
    "preproc_2 = lambda x : x.replace(\"전라북도\",'전북특별자치도')\n",
    "\n",
    "preproc = lambda x : preproc_2(preproc_1(x))\n",
    "\n",
    "hdong_rough_names = set(hdong_shp_df[\"rough_name\"].apply(preproc))\n",
    "bdong_rough_names = set(bdong_shp_df[\"rough_name\"])\n",
    "bdong_rough_names - hdong_rough_names, hdong_rough_names - bdong_rough_names"
   ]
  },
  {
   "cell_type": "code",
   "execution_count": 21,
   "metadata": {},
   "outputs": [
    {
     "data": {
      "text/plain": [
       "(set(), set())"
      ]
     },
     "execution_count": 21,
     "metadata": {},
     "output_type": "execute_result"
    }
   ],
   "source": [
    "preproc_1 = lambda x: x.split()[0]\n",
    "preproc_2 = lambda x: x.replace(\"전라북도\", \"전북특별자치도\")\n",
    "preproc_3 = lambda x: \"세종특별자치시\" if x == \"세종특별자치시_세종시\" else x\n",
    "preproc = lambda x: preproc_3(preproc_2(preproc_1(x)))\n",
    "\n",
    "hdong_rough_names = set(hdong_shp_df[\"rough_name\"].apply(preproc))\n",
    "bdong_rough_names = set(bdong_shp_df[\"rough_name\"])\n",
    "bdong_rough_names - hdong_rough_names, hdong_rough_names - bdong_rough_names"
   ]
  },
  {
   "cell_type": "code",
   "execution_count": null,
   "metadata": {},
   "outputs": [],
   "source": []
  },
  {
   "cell_type": "code",
   "execution_count": 22,
   "metadata": {},
   "outputs": [],
   "source": [
    "# rough_name unify\n",
    "\n",
    "hdong_shp_df[\"rough_name\"] = hdong_shp_df[\"rough_name\"].apply(preproc)\n",
    "bdong_shp_df[\"rough_name\"] = bdong_shp_df[\"rough_name\"].apply(preproc)"
   ]
  },
  {
   "cell_type": "code",
   "execution_count": null,
   "metadata": {},
   "outputs": [],
   "source": []
  },
  {
   "cell_type": "code",
   "execution_count": 23,
   "metadata": {},
   "outputs": [
    {
     "data": {
      "text/html": [
       "<div>\n",
       "<style scoped>\n",
       "    .dataframe tbody tr th:only-of-type {\n",
       "        vertical-align: middle;\n",
       "    }\n",
       "\n",
       "    .dataframe tbody tr th {\n",
       "        vertical-align: top;\n",
       "    }\n",
       "\n",
       "    .dataframe thead th {\n",
       "        text-align: right;\n",
       "    }\n",
       "</style>\n",
       "<table border=\"1\" class=\"dataframe\">\n",
       "  <thead>\n",
       "    <tr style=\"text-align: right;\">\n",
       "      <th></th>\n",
       "      <th>detail_name</th>\n",
       "      <th>detail_code</th>\n",
       "      <th>rough_name</th>\n",
       "      <th>geometry</th>\n",
       "    </tr>\n",
       "  </thead>\n",
       "  <tbody>\n",
       "    <tr>\n",
       "      <th>2785</th>\n",
       "      <td>이동면</td>\n",
       "      <td>38550310</td>\n",
       "      <td>경상남도_남해군</td>\n",
       "      <td>MULTIPOLYGON (((286043.336 240550.976, 286042....</td>\n",
       "    </tr>\n",
       "    <tr>\n",
       "      <th>418</th>\n",
       "      <td>청리면</td>\n",
       "      <td>37080340</td>\n",
       "      <td>경상북도_상주시</td>\n",
       "      <td>POLYGON ((300594.198 419673.148, 300600.689 41...</td>\n",
       "    </tr>\n",
       "    <tr>\n",
       "      <th>568</th>\n",
       "      <td>학익1동</td>\n",
       "      <td>23090600</td>\n",
       "      <td>인천광역시_미추홀구</td>\n",
       "      <td>POLYGON ((167280.696 539106.580, 167322.025 53...</td>\n",
       "    </tr>\n",
       "    <tr>\n",
       "      <th>1376</th>\n",
       "      <td>신수동</td>\n",
       "      <td>11140630</td>\n",
       "      <td>서울특별시_마포구</td>\n",
       "      <td>POLYGON ((194199.233 550319.831, 194216.333 55...</td>\n",
       "    </tr>\n",
       "    <tr>\n",
       "      <th>3359</th>\n",
       "      <td>초촌면</td>\n",
       "      <td>34530450</td>\n",
       "      <td>충청남도_부여군</td>\n",
       "      <td>POLYGON ((200331.081 411151.040, 200397.112 41...</td>\n",
       "    </tr>\n",
       "  </tbody>\n",
       "</table>\n",
       "</div>"
      ],
      "text/plain": [
       "     detail_name detail_code  rough_name  \\\n",
       "2785         이동면    38550310    경상남도_남해군   \n",
       "418          청리면    37080340    경상북도_상주시   \n",
       "568         학익1동    23090600  인천광역시_미추홀구   \n",
       "1376         신수동    11140630   서울특별시_마포구   \n",
       "3359         초촌면    34530450    충청남도_부여군   \n",
       "\n",
       "                                               geometry  \n",
       "2785  MULTIPOLYGON (((286043.336 240550.976, 286042....  \n",
       "418   POLYGON ((300594.198 419673.148, 300600.689 41...  \n",
       "568   POLYGON ((167280.696 539106.580, 167322.025 53...  \n",
       "1376  POLYGON ((194199.233 550319.831, 194216.333 55...  \n",
       "3359  POLYGON ((200331.081 411151.040, 200397.112 41...  "
      ]
     },
     "metadata": {},
     "output_type": "display_data"
    },
    {
     "data": {
      "text/html": [
       "<div>\n",
       "<style scoped>\n",
       "    .dataframe tbody tr th:only-of-type {\n",
       "        vertical-align: middle;\n",
       "    }\n",
       "\n",
       "    .dataframe tbody tr th {\n",
       "        vertical-align: top;\n",
       "    }\n",
       "\n",
       "    .dataframe thead th {\n",
       "        text-align: right;\n",
       "    }\n",
       "</style>\n",
       "<table border=\"1\" class=\"dataframe\">\n",
       "  <thead>\n",
       "    <tr style=\"text-align: right;\">\n",
       "      <th></th>\n",
       "      <th>detail_name</th>\n",
       "      <th>detail_code</th>\n",
       "      <th>rough_name</th>\n",
       "      <th>geometry</th>\n",
       "    </tr>\n",
       "  </thead>\n",
       "  <tbody>\n",
       "    <tr>\n",
       "      <th>87</th>\n",
       "      <td>매노동</td>\n",
       "      <td>30170118</td>\n",
       "      <td>대전광역시_서구</td>\n",
       "      <td>POLYGON ((229940.274 406430.817, 229958.209 40...</td>\n",
       "    </tr>\n",
       "    <tr>\n",
       "      <th>34</th>\n",
       "      <td>대의동3가</td>\n",
       "      <td>46110135</td>\n",
       "      <td>전라남도_목포시</td>\n",
       "      <td>POLYGON ((143232.802 243572.685, 143255.758 24...</td>\n",
       "    </tr>\n",
       "    <tr>\n",
       "      <th>19</th>\n",
       "      <td>후평동</td>\n",
       "      <td>51110120</td>\n",
       "      <td>강원특별자치도_춘천시</td>\n",
       "      <td>POLYGON ((264598.033 587858.729, 264666.002 58...</td>\n",
       "    </tr>\n",
       "    <tr>\n",
       "      <th>244</th>\n",
       "      <td>삼기면</td>\n",
       "      <td>46720320</td>\n",
       "      <td>전라남도_곡성군</td>\n",
       "      <td>POLYGON ((224115.169 290358.368, 224064.364 29...</td>\n",
       "    </tr>\n",
       "    <tr>\n",
       "      <th>438</th>\n",
       "      <td>구갈동</td>\n",
       "      <td>41463102</td>\n",
       "      <td>경기도_용인시</td>\n",
       "      <td>POLYGON ((209712.118 519434.014, 209716.533 51...</td>\n",
       "    </tr>\n",
       "  </tbody>\n",
       "</table>\n",
       "</div>"
      ],
      "text/plain": [
       "    detail_name detail_code   rough_name  \\\n",
       "87          매노동    30170118     대전광역시_서구   \n",
       "34        대의동3가    46110135     전라남도_목포시   \n",
       "19          후평동    51110120  강원특별자치도_춘천시   \n",
       "244         삼기면    46720320     전라남도_곡성군   \n",
       "438         구갈동    41463102      경기도_용인시   \n",
       "\n",
       "                                              geometry  \n",
       "87   POLYGON ((229940.274 406430.817, 229958.209 40...  \n",
       "34   POLYGON ((143232.802 243572.685, 143255.758 24...  \n",
       "19   POLYGON ((264598.033 587858.729, 264666.002 58...  \n",
       "244  POLYGON ((224115.169 290358.368, 224064.364 29...  \n",
       "438  POLYGON ((209712.118 519434.014, 209716.533 51...  "
      ]
     },
     "metadata": {},
     "output_type": "display_data"
    }
   ],
   "source": [
    "# Preproc Done\n",
    "display(hdong_shp_df.sample(5))\n",
    "display(bdong_shp_df.sample(5))"
   ]
  },
  {
   "cell_type": "code",
   "execution_count": 24,
   "metadata": {},
   "outputs": [],
   "source": [
    "def calc_intersection_pct(polygon_a, polygon_b):\n",
    "    intersection_area = polygon_a.intersection(polygon_b).area\n",
    "    base_area = min(polygon_a.area,polygon_b.area)\n",
    "    return intersection_area / base_area\n",
    "\n",
    "\n",
    "def get_a2b_dict(a_df, b_df, pct):\n",
    "    a2b_dict = defaultdict(lambda: [])\n",
    "    for a_idx, a_row in a_df.iterrows():\n",
    "        candidate_df = b_df[b_df[\"rough_name\"] == a_row[\"rough_name\"]]\n",
    "        for b_idx, b_row in candidate_df.iterrows():\n",
    "            if calc_intersection_pct(a_row[\"geometry\"], b_row[\"geometry\"]) > pct:\n",
    "                a2b_dict[a_row[\"detail_code\"]].append(b_row[\"detail_code\"])\n",
    "                \n",
    "        if len(a2b_dict[a_row[\"detail_code\"]]) == 0:\n",
    "            a2b_dict[a_row[\"detail_code\"]].append(\"None\")\n",
    "    return a2b_dict"
   ]
  },
  {
   "cell_type": "code",
   "execution_count": 25,
   "metadata": {},
   "outputs": [],
   "source": [
    "pct = 0.3\n",
    "bdong2hdong_dict = get_a2b_dict(bdong_shp_df, hdong_shp_df, pct)\n",
    "hdong2bdong_dict = get_a2b_dict(hdong_shp_df, bdong_shp_df, pct)"
   ]
  },
  {
   "cell_type": "code",
   "execution_count": 26,
   "metadata": {},
   "outputs": [
    {
     "data": {
      "text/plain": [
       "(3528, 3528)"
      ]
     },
     "execution_count": 26,
     "metadata": {},
     "output_type": "execute_result"
    }
   ],
   "source": [
    "len(hdong_shp_df), len(hdong2bdong_dict)"
   ]
  },
  {
   "cell_type": "code",
   "execution_count": 27,
   "metadata": {},
   "outputs": [
    {
     "data": {
      "text/plain": [
       "(5064, 5064)"
      ]
     },
     "execution_count": 27,
     "metadata": {},
     "output_type": "execute_result"
    }
   ],
   "source": [
    "len(bdong_shp_df), len(bdong2hdong_dict)"
   ]
  },
  {
   "cell_type": "code",
   "execution_count": 28,
   "metadata": {},
   "outputs": [],
   "source": [
    "bdong2hdong_df = pd.DataFrame([bdong2hdong_dict]).T.reset_index()\n",
    "bdong2hdong_df.columns = [\"bdong\", \"hdong\"]\n",
    "bdong2hdong_df = bdong2hdong_df.explode(\"hdong\")\n",
    "\n",
    "hdong2bdong_df = pd.DataFrame([hdong2bdong_dict]).T.reset_index()\n",
    "hdong2bdong_df.columns = [\"hdong\", \"bdong\"]\n",
    "hdong2bdong_df = hdong2bdong_df.explode(\"bdong\")"
   ]
  },
  {
   "cell_type": "code",
   "execution_count": 29,
   "metadata": {},
   "outputs": [
    {
     "data": {
      "text/html": [
       "<div>\n",
       "<style scoped>\n",
       "    .dataframe tbody tr th:only-of-type {\n",
       "        vertical-align: middle;\n",
       "    }\n",
       "\n",
       "    .dataframe tbody tr th {\n",
       "        vertical-align: top;\n",
       "    }\n",
       "\n",
       "    .dataframe thead th {\n",
       "        text-align: right;\n",
       "    }\n",
       "</style>\n",
       "<table border=\"1\" class=\"dataframe\">\n",
       "  <thead>\n",
       "    <tr style=\"text-align: right;\">\n",
       "      <th></th>\n",
       "      <th>detail_name</th>\n",
       "      <th>detail_code</th>\n",
       "      <th>rough_name</th>\n",
       "      <th>geometry</th>\n",
       "    </tr>\n",
       "  </thead>\n",
       "  <tbody>\n",
       "    <tr>\n",
       "      <th>5</th>\n",
       "      <td>통의동</td>\n",
       "      <td>11110106</td>\n",
       "      <td>서울특별시_종로구</td>\n",
       "      <td>POLYGON ((197694.149 553307.780, 197694.351 55...</td>\n",
       "    </tr>\n",
       "    <tr>\n",
       "      <th>6</th>\n",
       "      <td>적선동</td>\n",
       "      <td>11110107</td>\n",
       "      <td>서울특별시_종로구</td>\n",
       "      <td>POLYGON ((197718.383 552990.183, 197719.405 55...</td>\n",
       "    </tr>\n",
       "    <tr>\n",
       "      <th>11</th>\n",
       "      <td>체부동</td>\n",
       "      <td>11110112</td>\n",
       "      <td>서울특별시_종로구</td>\n",
       "      <td>POLYGON ((197341.270 553303.075, 197345.157 55...</td>\n",
       "    </tr>\n",
       "    <tr>\n",
       "      <th>12</th>\n",
       "      <td>필운동</td>\n",
       "      <td>11110113</td>\n",
       "      <td>서울특별시_종로구</td>\n",
       "      <td>POLYGON ((197336.883 553213.107, 197339.011 55...</td>\n",
       "    </tr>\n",
       "    <tr>\n",
       "      <th>13</th>\n",
       "      <td>내자동</td>\n",
       "      <td>11110114</td>\n",
       "      <td>서울특별시_종로구</td>\n",
       "      <td>POLYGON ((197396.191 552993.359, 197397.325 55...</td>\n",
       "    </tr>\n",
       "    <tr>\n",
       "      <th>14</th>\n",
       "      <td>사직동</td>\n",
       "      <td>11110115</td>\n",
       "      <td>서울특별시_종로구</td>\n",
       "      <td>POLYGON ((196893.675 553182.132, 196906.717 55...</td>\n",
       "    </tr>\n",
       "    <tr>\n",
       "      <th>15</th>\n",
       "      <td>도렴동</td>\n",
       "      <td>11110116</td>\n",
       "      <td>서울특별시_종로구</td>\n",
       "      <td>POLYGON ((197831.511 552737.097, 197833.799 55...</td>\n",
       "    </tr>\n",
       "    <tr>\n",
       "      <th>16</th>\n",
       "      <td>당주동</td>\n",
       "      <td>11110117</td>\n",
       "      <td>서울특별시_종로구</td>\n",
       "      <td>POLYGON ((197729.411 552566.473, 197730.299 55...</td>\n",
       "    </tr>\n",
       "    <tr>\n",
       "      <th>17</th>\n",
       "      <td>내수동</td>\n",
       "      <td>11110118</td>\n",
       "      <td>서울특별시_종로구</td>\n",
       "      <td>POLYGON ((197394.956 552800.020, 197433.847 55...</td>\n",
       "    </tr>\n",
       "    <tr>\n",
       "      <th>19</th>\n",
       "      <td>신문로1가</td>\n",
       "      <td>11110120</td>\n",
       "      <td>서울특별시_종로구</td>\n",
       "      <td>POLYGON ((197513.137 552250.871, 197519.047 55...</td>\n",
       "    </tr>\n",
       "    <tr>\n",
       "      <th>20</th>\n",
       "      <td>신문로2가</td>\n",
       "      <td>11110121</td>\n",
       "      <td>서울특별시_종로구</td>\n",
       "      <td>POLYGON ((197047.654 552220.661, 197038.195 55...</td>\n",
       "    </tr>\n",
       "  </tbody>\n",
       "</table>\n",
       "</div>"
      ],
      "text/plain": [
       "   detail_name detail_code rough_name  \\\n",
       "5          통의동    11110106  서울특별시_종로구   \n",
       "6          적선동    11110107  서울특별시_종로구   \n",
       "11         체부동    11110112  서울특별시_종로구   \n",
       "12         필운동    11110113  서울특별시_종로구   \n",
       "13         내자동    11110114  서울특별시_종로구   \n",
       "14         사직동    11110115  서울특별시_종로구   \n",
       "15         도렴동    11110116  서울특별시_종로구   \n",
       "16         당주동    11110117  서울특별시_종로구   \n",
       "17         내수동    11110118  서울특별시_종로구   \n",
       "19       신문로1가    11110120  서울특별시_종로구   \n",
       "20       신문로2가    11110121  서울특별시_종로구   \n",
       "\n",
       "                                             geometry  \n",
       "5   POLYGON ((197694.149 553307.780, 197694.351 55...  \n",
       "6   POLYGON ((197718.383 552990.183, 197719.405 55...  \n",
       "11  POLYGON ((197341.270 553303.075, 197345.157 55...  \n",
       "12  POLYGON ((197336.883 553213.107, 197339.011 55...  \n",
       "13  POLYGON ((197396.191 552993.359, 197397.325 55...  \n",
       "14  POLYGON ((196893.675 553182.132, 196906.717 55...  \n",
       "15  POLYGON ((197831.511 552737.097, 197833.799 55...  \n",
       "16  POLYGON ((197729.411 552566.473, 197730.299 55...  \n",
       "17  POLYGON ((197394.956 552800.020, 197433.847 55...  \n",
       "19  POLYGON ((197513.137 552250.871, 197519.047 55...  \n",
       "20  POLYGON ((197047.654 552220.661, 197038.195 55...  "
      ]
     },
     "execution_count": 29,
     "metadata": {},
     "output_type": "execute_result"
    }
   ],
   "source": [
    "hdong_code = hdong2bdong_df['hdong'].sample().iloc[0]\n",
    "hdong_code = '11010530'\n",
    "bdong_codes = set(hdong2bdong_df[hdong2bdong_df[\"hdong\"] == hdong_code][\"bdong\"])\n",
    "rough_name = hdong_shp_df[hdong_shp_df[\"detail_code\"] == hdong_code][\"rough_name\"].iloc[0]\n",
    "\n",
    "\n",
    "hdong_tmp = hdong_shp_df[hdong_shp_df[\"detail_code\"] == hdong_code]\n",
    "bdong_tmp = bdong_shp_df[bdong_shp_df[\"detail_code\"].isin(bdong_codes)]\n",
    "base_tmp = hdong_shp_df[hdong_shp_df[\"rough_name\"] == rough_name]\n",
    "bdong_tmp"
   ]
  },
  {
   "cell_type": "code",
   "execution_count": 30,
   "metadata": {},
   "outputs": [],
   "source": [
    "# EDA (Check result)"
   ]
  },
  {
   "cell_type": "code",
   "execution_count": 31,
   "metadata": {},
   "outputs": [],
   "source": [
    "import matplotlib.pyplot as plt"
   ]
  },
  {
   "cell_type": "code",
   "execution_count": 32,
   "metadata": {},
   "outputs": [
    {
     "data": {
      "image/png": "[encoded data removed]",
      "text/plain": [
       "<Figure size 600x600 with 1 Axes>"
      ]
     },
     "metadata": {},
     "output_type": "display_data"
    }
   ],
   "source": [
    "fig, ax = plt.subplots(figsize=(6,6))\n",
    "\n",
    "\n",
    "gdf = gpd.GeoDataFrame(base_tmp, geometry=base_tmp[\"geometry\"])\n",
    "gdf.plot(ax=ax, color=\"grey\", label=\"included\")\n",
    "\n",
    "gdf = gpd.GeoDataFrame(bdong_tmp, geometry=bdong_tmp[\"geometry\"])\n",
    "gdf.plot(ax=ax, color=\"blue\", label=\"included\")\n",
    "\n",
    "gdf = gpd.GeoDataFrame(hdong_tmp, geometry=hdong_tmp[\"geometry\"])\n",
    "gdf.plot(ax=ax, color=\"red\", label=\"main\")\n",
    "fig.tight_layout()\n",
    "# ax.set_title()"
   ]
  },
  {
   "cell_type": "code",
   "execution_count": null,
   "metadata": {},
   "outputs": [],
   "source": []
  },
  {
   "cell_type": "code",
   "execution_count": 33,
   "metadata": {},
   "outputs": [],
   "source": [
    "# save\n",
    "import json"
   ]
  },
  {
   "cell_type": "code",
   "execution_count": 34,
   "metadata": {},
   "outputs": [],
   "source": [
    "with open(\"./data/preproc_data/행정동_법정동_매퍼/by_intersection_n_pct/bdong2hdong_dict.json\", \"w\") as f:\n",
    "    json.dump(bdong2hdong_dict, f, indent=4, ensure_ascii=False)\n",
    "\n",
    "with open(\"./data/preproc_data/행정동_법정동_매퍼/by_intersection_n_pct/hdong2bdong_dict.json\", \"w\") as f:\n",
    "    json.dump(hdong2bdong_dict, f, indent=4, ensure_ascii=False)"
   ]
  },
  {
   "cell_type": "code",
   "execution_count": 35,
   "metadata": {},
   "outputs": [],
   "source": [
    "bdong2hdong_df.reset_index(drop=True).to_csv(\n",
    "    \"./data/preproc_data/행정동_법정동_매퍼/by_intersection_n_pct/bdong2hdong_df.csv\", index=False\n",
    ")\n",
    "hdong2bdong_df.reset_index(drop=True).to_csv(\n",
    "    \"./data/preproc_data/행정동_법정동_매퍼/by_intersection_n_pct/hdong2bdong_df.csv\", index=False\n",
    ")"
   ]
  },
  {
   "cell_type": "code",
   "execution_count": 36,
   "metadata": {},
   "outputs": [],
   "source": [
    "bdong = bdong_shp_df.copy()\n",
    "hdong = hdong_shp_df.copy()"
   ]
  },
  {
   "cell_type": "code",
   "execution_count": 37,
   "metadata": {},
   "outputs": [],
   "source": [
    "bdong[\"total_name\"] = bdong[\"rough_name\"] + \"_\" + bdong[\"detail_name\"]\n",
    "bdong_code_name_dict = bdong.set_index(\"detail_code\")[\"total_name\"].to_dict()"
   ]
  },
  {
   "cell_type": "code",
   "execution_count": 38,
   "metadata": {},
   "outputs": [],
   "source": [
    "hdong[\"total_name\"] = hdong[\"rough_name\"] + \"_\" + hdong[\"detail_name\"]\n",
    "hdong_code_name_dict = hdong.set_index(\"detail_code\")[\"total_name\"].to_dict()"
   ]
  },
  {
   "cell_type": "code",
   "execution_count": 39,
   "metadata": {},
   "outputs": [],
   "source": [
    "with open(\"./data/preproc_data/행정동_법정동_매퍼/bdong_code_name_dict.json\", \"w\") as f:\n",
    "    json.dump(bdong_code_name_dict, f, indent=4, ensure_ascii=False)\n",
    "\n",
    "with open(\"./data/preproc_data/행정동_법정동_매퍼/hdong_code_name_dict.json\", \"w\") as f:\n",
    "    json.dump(hdong_code_name_dict, f, indent=4, ensure_ascii=False)"
   ]
  },
  {
   "cell_type": "code",
   "execution_count": 40,
   "metadata": {},
   "outputs": [],
   "source": [
    "bdong2hdong_df[\"bdong_name\"] = bdong2hdong_df[\"bdong\"].map(bdong_code_name_dict)\n",
    "bdong2hdong_df[\"hdong_name\"] = bdong2hdong_df[\"hdong\"].map(hdong_code_name_dict)\n",
    "hdong2bdong_df[\"hdong_name\"] = hdong2bdong_df[\"hdong\"].map(hdong_code_name_dict)\n",
    "hdong2bdong_df[\"bdong_name\"] = hdong2bdong_df[\"bdong\"].map(bdong_code_name_dict)"
   ]
  },
  {
   "cell_type": "code",
   "execution_count": 41,
   "metadata": {},
   "outputs": [
    {
     "data": {
      "text/html": [
       "<div>\n",
       "<style scoped>\n",
       "    .dataframe tbody tr th:only-of-type {\n",
       "        vertical-align: middle;\n",
       "    }\n",
       "\n",
       "    .dataframe tbody tr th {\n",
       "        vertical-align: top;\n",
       "    }\n",
       "\n",
       "    .dataframe thead th {\n",
       "        text-align: right;\n",
       "    }\n",
       "</style>\n",
       "<table border=\"1\" class=\"dataframe\">\n",
       "  <thead>\n",
       "    <tr style=\"text-align: right;\">\n",
       "      <th></th>\n",
       "      <th>hdong</th>\n",
       "      <th>bdong</th>\n",
       "      <th>hdong_name</th>\n",
       "      <th>bdong_name</th>\n",
       "    </tr>\n",
       "  </thead>\n",
       "  <tbody>\n",
       "    <tr>\n",
       "      <th>371</th>\n",
       "      <td>37530330</td>\n",
       "      <td>47750330</td>\n",
       "      <td>경상북도_청송군_현동면</td>\n",
       "      <td>경상북도_청송군_현동면</td>\n",
       "    </tr>\n",
       "    <tr>\n",
       "      <th>3059</th>\n",
       "      <td>31200350</td>\n",
       "      <td>41480350</td>\n",
       "      <td>경기도_파주시_광탄면</td>\n",
       "      <td>경기도_파주시_광탄면</td>\n",
       "    </tr>\n",
       "    <tr>\n",
       "      <th>161</th>\n",
       "      <td>39020590</td>\n",
       "      <td>50130102</td>\n",
       "      <td>제주특별자치도_서귀포시_대륜동</td>\n",
       "      <td>제주특별자치도_서귀포시_법환동</td>\n",
       "    </tr>\n",
       "    <tr>\n",
       "      <th>1250</th>\n",
       "      <td>38050620</td>\n",
       "      <td>48220101</td>\n",
       "      <td>경상남도_통영시_도천동</td>\n",
       "      <td>경상남도_통영시_도천동</td>\n",
       "    </tr>\n",
       "    <tr>\n",
       "      <th>236</th>\n",
       "      <td>11150540</td>\n",
       "      <td>11470102</td>\n",
       "      <td>서울특별시_양천구_목4동</td>\n",
       "      <td>서울특별시_양천구_목동</td>\n",
       "    </tr>\n",
       "  </tbody>\n",
       "</table>\n",
       "</div>"
      ],
      "text/plain": [
       "         hdong     bdong        hdong_name        bdong_name\n",
       "371   37530330  47750330      경상북도_청송군_현동면      경상북도_청송군_현동면\n",
       "3059  31200350  41480350       경기도_파주시_광탄면       경기도_파주시_광탄면\n",
       "161   39020590  50130102  제주특별자치도_서귀포시_대륜동  제주특별자치도_서귀포시_법환동\n",
       "1250  38050620  48220101      경상남도_통영시_도천동      경상남도_통영시_도천동\n",
       "236   11150540  11470102     서울특별시_양천구_목4동      서울특별시_양천구_목동"
      ]
     },
     "metadata": {},
     "output_type": "display_data"
    },
    {
     "data": {
      "text/html": [
       "<div>\n",
       "<style scoped>\n",
       "    .dataframe tbody tr th:only-of-type {\n",
       "        vertical-align: middle;\n",
       "    }\n",
       "\n",
       "    .dataframe tbody tr th {\n",
       "        vertical-align: top;\n",
       "    }\n",
       "\n",
       "    .dataframe thead th {\n",
       "        text-align: right;\n",
       "    }\n",
       "</style>\n",
       "<table border=\"1\" class=\"dataframe\">\n",
       "  <thead>\n",
       "    <tr style=\"text-align: right;\">\n",
       "      <th></th>\n",
       "      <th>bdong</th>\n",
       "      <th>hdong</th>\n",
       "      <th>bdong_name</th>\n",
       "      <th>hdong_name</th>\n",
       "    </tr>\n",
       "  </thead>\n",
       "  <tbody>\n",
       "    <tr>\n",
       "      <th>4095</th>\n",
       "      <td>41135105</td>\n",
       "      <td>31023590</td>\n",
       "      <td>경기도_성남시_서현동</td>\n",
       "      <td>경기도_성남시_서현2동</td>\n",
       "    </tr>\n",
       "    <tr>\n",
       "      <th>1976</th>\n",
       "      <td>46110115</td>\n",
       "      <td>36010600</td>\n",
       "      <td>전라남도_목포시_상락동1가</td>\n",
       "      <td>전라남도_목포시_목원동</td>\n",
       "    </tr>\n",
       "    <tr>\n",
       "      <th>4109</th>\n",
       "      <td>41150101</td>\n",
       "      <td>31030520</td>\n",
       "      <td>경기도_의정부시_의정부동</td>\n",
       "      <td>경기도_의정부시_의정부2동</td>\n",
       "    </tr>\n",
       "    <tr>\n",
       "      <th>4779</th>\n",
       "      <td>50110125</td>\n",
       "      <td>39010680</td>\n",
       "      <td>제주특별자치도_제주시_이호일동</td>\n",
       "      <td>제주특별자치도_제주시_이호동</td>\n",
       "    </tr>\n",
       "    <tr>\n",
       "      <th>1763</th>\n",
       "      <td>11710101</td>\n",
       "      <td>11240780</td>\n",
       "      <td>서울특별시_송파구_잠실동</td>\n",
       "      <td>서울특별시_송파구_잠실7동</td>\n",
       "    </tr>\n",
       "  </tbody>\n",
       "</table>\n",
       "</div>"
      ],
      "text/plain": [
       "         bdong     hdong        bdong_name       hdong_name\n",
       "4095  41135105  31023590       경기도_성남시_서현동     경기도_성남시_서현2동\n",
       "1976  46110115  36010600    전라남도_목포시_상락동1가     전라남도_목포시_목원동\n",
       "4109  41150101  31030520     경기도_의정부시_의정부동   경기도_의정부시_의정부2동\n",
       "4779  50110125  39010680  제주특별자치도_제주시_이호일동  제주특별자치도_제주시_이호동\n",
       "1763  11710101  11240780     서울특별시_송파구_잠실동   서울특별시_송파구_잠실7동"
      ]
     },
     "metadata": {},
     "output_type": "display_data"
    }
   ],
   "source": [
    "display(hdong2bdong_df.sample(5))\n",
    "display(bdong2hdong_df.sample(5))"
   ]
  },
  {
   "cell_type": "code",
   "execution_count": null,
   "metadata": {},
   "outputs": [],
   "source": []
  }
 ],
 "metadata": {
  "kernelspec": {
   "display_name": "quant_trading",
   "language": "python",
   "name": "python3"
  },
  "language_info": {
   "codemirror_mode": {
    "name": "ipython",
    "version": 3
   },
   "file_extension": ".py",
   "mimetype": "text/x-python",
   "name": "python",
   "nbconvert_exporter": "python",
   "pygments_lexer": "ipython3",
   "version": "3.10.13"
  }
 },
 "nbformat": 4,
 "nbformat_minor": 2
}
