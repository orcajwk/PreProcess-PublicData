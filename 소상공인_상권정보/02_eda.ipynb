{
 "cells": [
  {
   "cell_type": "code",
   "execution_count": null,
   "metadata": {},
   "outputs": [],
   "source": [
    "from glob import glob\n",
    "\n",
    "import pandas as pd\n",
    "from tqdm import tqdm"
   ]
  },
  {
   "cell_type": "code",
   "execution_count": null,
   "metadata": {},
   "outputs": [],
   "source": [
    "file_paths = sorted(glob(\"./data/raw_data/*/*.csv\"))"
   ]
  },
  {
   "cell_type": "code",
   "execution_count": null,
   "metadata": {},
   "outputs": [],
   "source": [
    "is_instruction = lambda x: '방법' in x\n",
    "is_not_instruction = lambda x: not is_instruction(x)\n",
    "\n",
    "filtered_file_paths = list(filter(is_not_instruction, file_paths))"
   ]
  },
  {
   "cell_type": "code",
   "execution_count": null,
   "metadata": {},
   "outputs": [],
   "source": [
    "def read_csv(file_path):\n",
    "    encodings = [\"utf-8\", \"cp949\"]\n",
    "    seps = [\",\", \"|\"]\n",
    "    for encoding in encodings:\n",
    "        for sep in seps:\n",
    "            try:\n",
    "                df = pd.read_csv(file_path, encoding=encoding, sep=sep, low_memory=False)\n",
    "                return (df, encoding, sep)\n",
    "            except UnicodeDecodeError:\n",
    "                continue\n",
    "            except pd.errors.ParserError:\n",
    "                continue\n",
    "            except Exception:\n",
    "                print(file_path)\n",
    "                continue\n",
    "    return (None, None, None)"
   ]
  },
  {
   "cell_type": "code",
   "execution_count": null,
   "metadata": {},
   "outputs": [],
   "source": [
    "failed_files = list()\n",
    "file_read_params = dict()\n",
    "file_columns = dict()\n",
    "\n",
    "for file_path in tqdm(file_paths):\n",
    "    df, encoding, sep = read_csv(file_path)\n",
    "    if df is not None:\n",
    "        file_read_params[file_path] = {\"encoding\": encoding, \"sep\": sep}\n",
    "        file_columns[file_path] = list(df.columns)\n",
    "    else:\n",
    "        failed_files.append(file_path)"
   ]
  },
  {
   "cell_type": "code",
   "execution_count": null,
   "metadata": {},
   "outputs": [],
   "source": [
    "all_columns = list(file_columns.values())"
   ]
  },
  {
   "cell_type": "code",
   "execution_count": null,
   "metadata": {},
   "outputs": [],
   "source": [
    "from collections import Counter"
   ]
  },
  {
   "cell_type": "code",
   "execution_count": null,
   "metadata": {},
   "outputs": [],
   "source": [
    "Counter(sum(all_columns,[]))"
   ]
  },
  {
   "cell_type": "code",
   "execution_count": null,
   "metadata": {},
   "outputs": [],
   "source": [
    "failed_files"
   ]
  },
  {
   "cell_type": "code",
   "execution_count": null,
   "metadata": {},
   "outputs": [],
   "source": [
    "failed_file = failed_files[0]"
   ]
  },
  {
   "cell_type": "code",
   "execution_count": null,
   "metadata": {},
   "outputs": [],
   "source": [
    "pd.read_csv(failed_file, encoding='utf-8', sep='|', on_bad_lines='skip').head()"
   ]
  },
  {
   "cell_type": "code",
   "execution_count": null,
   "metadata": {},
   "outputs": [],
   "source": [
    "file_read_params[failed_file] = {\n",
    "    'encoding': 'utf-8',\n",
    "    'sep': '|',\n",
    "    'on_bad_lines': 'skip',\n",
    "}"
   ]
  },
  {
   "cell_type": "code",
   "execution_count": null,
   "metadata": {},
   "outputs": [],
   "source": [
    "import json\n",
    "\n",
    "with open(\"./data/file_read_params.json\", 'w') as f:\n",
    "    json.dump(file_read_params, f, indent=4, ensure_ascii=False)"
   ]
  },
  {
   "cell_type": "code",
   "execution_count": null,
   "metadata": {},
   "outputs": [],
   "source": []
  }
 ],
 "metadata": {
  "kernelspec": {
   "display_name": "quant_trading",
   "language": "python",
   "name": "python3"
  },
  "language_info": {
   "codemirror_mode": {
    "name": "ipython",
    "version": 3
   },
   "file_extension": ".py",
   "mimetype": "text/x-python",
   "name": "python",
   "nbconvert_exporter": "python",
   "pygments_lexer": "ipython3",
   "version": "3.10.13"
  }
 },
 "nbformat": 4,
 "nbformat_minor": 2
}
