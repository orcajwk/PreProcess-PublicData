{
 "cells": [
  {
   "cell_type": "code",
   "execution_count": null,
   "metadata": {},
   "outputs": [],
   "source": [
    "# EDA\n",
    "# Check \n",
    "# raw_data structure\n",
    "# raw_data extension\n",
    "# raw_data naming-convention"
   ]
  },
  {
   "cell_type": "code",
   "execution_count": null,
   "metadata": {},
   "outputs": [],
   "source": [
    "from glob import glob"
   ]
  },
  {
   "cell_type": "code",
   "execution_count": null,
   "metadata": {},
   "outputs": [],
   "source": [
    "dir_paths = glob(\"./data/raw_data/*\")"
   ]
  },
  {
   "cell_type": "code",
   "execution_count": null,
   "metadata": {},
   "outputs": [],
   "source": [
    "import os\n",
    "import re\n",
    "\n",
    "def get_time(file_path):\n",
    "    file_name = os.path.basename(file_path)\n",
    "    date = re.findall(r\"\\d{6}\", file_name)[-1]\n",
    "    if date:\n",
    "        return date\n",
    "    else:\n",
    "        raise ValueError"
   ]
  },
  {
   "cell_type": "code",
   "execution_count": null,
   "metadata": {},
   "outputs": [],
   "source": [
    "sorted(\n",
    "    map(get_time,dir_paths)\n",
    ")"
   ]
  },
  {
   "cell_type": "code",
   "execution_count": null,
   "metadata": {},
   "outputs": [],
   "source": [
    "# all\n",
    "all_file_paths = list()\n",
    "for dir_path in dir_paths:\n",
    "    file_paths = glob(os.path.join(dir_path, \"*\"))\n",
    "    all_file_paths.extend(file_paths)\n",
    "all_file_paths"
   ]
  },
  {
   "cell_type": "code",
   "execution_count": null,
   "metadata": {},
   "outputs": [],
   "source": [
    "get_extension = lambda x: os.path.splitext(x)[-1]\n",
    "set(map(get_extension, all_file_paths))"
   ]
  },
  {
   "cell_type": "code",
   "execution_count": null,
   "metadata": {},
   "outputs": [],
   "source": [
    "# hwp\n",
    "hwp_file_paths = list()\n",
    "for dir_path in dir_paths:\n",
    "    file_paths = glob(os.path.join(dir_path, \"*.hwp\"))\n",
    "    hwp_file_paths.extend(file_paths)\n",
    "hwp_file_paths"
   ]
  },
  {
   "cell_type": "code",
   "execution_count": null,
   "metadata": {},
   "outputs": [],
   "source": [
    "# txt\n",
    "txt_file_paths = list()\n",
    "for dir_path in dir_paths:\n",
    "    file_paths = glob(os.path.join(dir_path, \"*.txt\"))\n",
    "    txt_file_paths.extend(file_paths)\n",
    "txt_file_paths"
   ]
  },
  {
   "cell_type": "code",
   "execution_count": null,
   "metadata": {},
   "outputs": [],
   "source": [
    "# xlsx\n",
    "xlsx_file_paths = list()\n",
    "for dir_path in dir_paths:\n",
    "    file_paths = glob(os.path.join(dir_path, \"*.xlsx\"))\n",
    "    xlsx_file_paths.extend(file_paths)\n",
    "xlsx_file_paths"
   ]
  },
  {
   "cell_type": "code",
   "execution_count": null,
   "metadata": {},
   "outputs": [],
   "source": [
    "# csv\n",
    "csv_file_paths = list()\n",
    "for dir_path in dir_paths:\n",
    "    file_paths = glob(os.path.join(dir_path, \"*.csv\"))\n",
    "    csv_file_paths.extend(file_paths)\n",
    "csv_file_paths"
   ]
  },
  {
   "cell_type": "code",
   "execution_count": null,
   "metadata": {},
   "outputs": [],
   "source": [
    "get_filename = lambda x: os.path.basename(x)\n",
    "\n",
    "sorted(map(get_filename, csv_file_paths))"
   ]
  },
  {
   "cell_type": "code",
   "execution_count": null,
   "metadata": {},
   "outputs": [],
   "source": [
    "get_filename = lambda x: os.path.basename(x)\n",
    "is_instruction = lambda x: '방법' in x\n",
    "is_not_instruction = lambda x: not is_instruction(x)\n",
    "\n",
    "list(filter(is_not_instruction, csv_file_paths))"
   ]
  },
  {
   "cell_type": "code",
   "execution_count": null,
   "metadata": {},
   "outputs": [],
   "source": []
  }
 ],
 "metadata": {
  "kernelspec": {
   "display_name": "quant_trading",
   "language": "python",
   "name": "python3"
  },
  "language_info": {
   "codemirror_mode": {
    "name": "ipython",
    "version": 3
   },
   "file_extension": ".py",
   "mimetype": "text/x-python",
   "name": "python",
   "nbconvert_exporter": "python",
   "pygments_lexer": "ipython3",
   "version": "3.10.13"
  }
 },
 "nbformat": 4,
 "nbformat_minor": 2
}
