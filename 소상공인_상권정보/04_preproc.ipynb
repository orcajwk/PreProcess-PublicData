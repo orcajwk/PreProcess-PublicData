{
 "cells": [
  {
   "cell_type": "code",
   "execution_count": null,
   "metadata": {},
   "outputs": [],
   "source": [
    "from glob import glob\n",
    "import pandas as pd"
   ]
  },
  {
   "cell_type": "code",
   "execution_count": null,
   "metadata": {},
   "outputs": [],
   "source": [
    "preprocs = glob(\"./data/preproc_data/*.csv\")\n",
    "\n",
    "addr_detail_preprocs = glob(\"./data/preproc_data/addr_detail_*.csv\")\n",
    "category_preprocs = glob(\"./data/preproc_data/category_*.csv\")\n",
    "addr_preprocs = list(set(preprocs) - set(addr_detail_preprocs) - set(category_preprocs))"
   ]
  },
  {
   "cell_type": "code",
   "execution_count": null,
   "metadata": {},
   "outputs": [],
   "source": [
    "read_csv = lambda file_path: pd.read_csv(file_path, index_col=0)"
   ]
  },
  {
   "cell_type": "code",
   "execution_count": null,
   "metadata": {},
   "outputs": [],
   "source": [
    "df = pd.concat([read_csv(file_path) for file_path in addr_preprocs])\n",
    "df.reset_index(drop=True).to_csv(\"./data/final_data/addr_df.csv\")\n"
   ]
  },
  {
   "cell_type": "code",
   "execution_count": null,
   "metadata": {},
   "outputs": [],
   "source": [
    "df = pd.concat([read_csv(file_path) for file_path in addr_detail_preprocs])\n",
    "df.reset_index(drop=True).to_csv(\"./data/final_data/addr_detail_df.csv\")"
   ]
  },
  {
   "cell_type": "code",
   "execution_count": null,
   "metadata": {},
   "outputs": [],
   "source": [
    "df = pd.concat([read_csv(file_path) for file_path in category_preprocs])\n",
    "df.reset_index(drop=True).to_csv(\"./data/final_data/category_df.csv\")"
   ]
  }
 ],
 "metadata": {
  "kernelspec": {
   "display_name": "quant_trading",
   "language": "python",
   "name": "python3"
  },
  "language_info": {
   "codemirror_mode": {
    "name": "ipython",
    "version": 3
   },
   "file_extension": ".py",
   "mimetype": "text/x-python",
   "name": "python",
   "nbconvert_exporter": "python",
   "pygments_lexer": "ipython3",
   "version": "3.10.13"
  }
 },
 "nbformat": 4,
 "nbformat_minor": 2
}
