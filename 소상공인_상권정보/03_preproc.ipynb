{
 "cells": [
  {
   "cell_type": "code",
   "execution_count": null,
   "metadata": {},
   "outputs": [],
   "source": [
    "import os\n",
    "import re\n",
    "import json\n",
    "from glob import glob\n",
    "\n",
    "import pandas as pd\n",
    "from tqdm import tqdm"
   ]
  },
  {
   "cell_type": "code",
   "execution_count": null,
   "metadata": {},
   "outputs": [],
   "source": [
    "# Params\n",
    "BASE_COLS = [\"상가업소번호\"]\n",
    "\n",
    "CATEGORY_COLS = [\"상호명\", \"상권업종대분류명\", \"상권업종중분류명\", \"상권업종소분류명\"]\n",
    "ADDR_COLS = [\"시도명\", \"시군구명\", \"행정동명\", \"법정동명\"]\n",
    "ADDR_DETAIL_COLS = [\"도로명\", \"위도\", \"경도\"]"
   ]
  },
  {
   "cell_type": "code",
   "execution_count": null,
   "metadata": {},
   "outputs": [],
   "source": [
    "# Loads\n",
    "with open('./data/file_read_params.json', 'r') as f:\n",
    "    file_read_params = json.load(f)\n",
    "\n",
    "dir_paths = glob(\"./data/raw_data/*\")"
   ]
  },
  {
   "cell_type": "code",
   "execution_count": null,
   "metadata": {},
   "outputs": [],
   "source": [
    "# Functions\n",
    "\n",
    "def get_time(dir_paths):\n",
    "    \"\"\"dir -> time\"\"\"\n",
    "    dir_name = os.path.basename(dir_paths)\n",
    "    date = re.findall(r\"\\d{6}\", dir_name)[-1]\n",
    "    if date:\n",
    "        return date\n",
    "    else:\n",
    "        raise ValueError\n",
    "\n",
    "def read_csv(file_path, file_read_params):\n",
    "    return pd.read_csv(file_path, **file_read_params[file_path], low_memory=False)\n",
    "\n",
    "read_csv_with_params = lambda file_path: read_csv(file_path, file_read_params)\n",
    "\n",
    "    \n",
    "def filter_df(df, base_cols, feature_cols):\n",
    "    filtered_df = df.loc[:, base_cols + feature_cols]\n",
    "    return filtered_df\n",
    "\n",
    "\n",
    "filter_category_df = lambda df: filter_df(df, BASE_COLS, CATEGORY_COLS)\n",
    "filter_addr_df = lambda df: filter_df(df, BASE_COLS, ADDR_COLS)\n",
    "filter_addr_detail_df = lambda df: filter_df(df, BASE_COLS, ADDR_DETAIL_COLS)\n",
    "\n",
    "def append_time(df, time):\n",
    "    df[\"time\"] = time\n",
    "    return df\n",
    "\n",
    "preproc_category = lambda df, time: append_time(filter_category_df(df), time)\n",
    "preproc_addr = lambda df, time: append_time(filter_addr_df(df), time)\n",
    "preproc_addr_detail = lambda df, time: append_time(filter_addr_detail_df(df), time)"
   ]
  },
  {
   "cell_type": "code",
   "execution_count": null,
   "metadata": {},
   "outputs": [],
   "source": [
    "failed_dir_paths = []\n",
    "\n",
    "for dir_path in tqdm(dir_paths):\n",
    "    time = get_time(dir_path)\n",
    "    file_paths = glob(os.path.join(dir_path, \"*.csv\"))\n",
    "    try:\n",
    "        df = pd.concat([read_csv_with_params(file_path) for file_path in file_paths], axis=0)\n",
    "\n",
    "        preproc_category(df, time).to_csv(f\"./data/preproc_data/category_{time}.csv\")\n",
    "        preproc_addr(df, time).to_csv(f\"./data/preproc_data/addr_{time}.csv\")\n",
    "        preproc_addr_detail(df, time).to_csv(f\"./data/preproc_data/addr_detail_{time}.csv\")\n",
    "    except:\n",
    "        failed_dir_paths.append(dir_path)\n",
    "        print(dir_path)"
   ]
  },
  {
   "cell_type": "code",
   "execution_count": null,
   "metadata": {},
   "outputs": [],
   "source": [
    "failed_dir_paths"
   ]
  },
  {
   "cell_type": "code",
   "execution_count": null,
   "metadata": {},
   "outputs": [],
   "source": [
    "dir_path = failed_dir_paths[0]"
   ]
  },
  {
   "cell_type": "code",
   "execution_count": null,
   "metadata": {},
   "outputs": [],
   "source": [
    "time = get_time(dir_path)\n",
    "file_paths = glob(os.path.join(dir_path, \"*.csv\"))\n",
    "\n",
    "df = pd.concat([read_csv_with_params(file_path) for file_path in file_paths], axis=0)\n",
    "\n",
    "preproc_category(df, time).to_csv(f\"./data/preproc_data/category_{time}.csv\")\n",
    "preproc_addr(df, time).to_csv(f\"./data/preproc_data/addr_{time}.csv\")\n",
    "preproc_addr_detail(df, time).to_csv(f\"./data/preproc_data/addr_detail_{time}.csv\")"
   ]
  }
 ],
 "metadata": {
  "kernelspec": {
   "display_name": "quant_trading",
   "language": "python",
   "name": "python3"
  },
  "language_info": {
   "codemirror_mode": {
    "name": "ipython",
    "version": 3
   },
   "file_extension": ".py",
   "mimetype": "text/x-python",
   "name": "python",
   "nbconvert_exporter": "python",
   "pygments_lexer": "ipython3",
   "version": "3.10.13"
  }
 },
 "nbformat": 4,
 "nbformat_minor": 2
}
