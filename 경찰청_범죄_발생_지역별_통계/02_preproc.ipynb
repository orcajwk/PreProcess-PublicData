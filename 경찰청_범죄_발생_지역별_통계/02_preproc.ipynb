{
 "cells": [
  {
   "cell_type": "code",
   "execution_count": 1,
   "metadata": {},
   "outputs": [],
   "source": [
    "import os\n",
    "import re\n",
    "from glob import glob\n",
    "import pandas as pd"
   ]
  },
  {
   "cell_type": "code",
   "execution_count": 2,
   "metadata": {},
   "outputs": [],
   "source": [
    "read_csv = lambda file_path: pd.read_csv(file_path, encoding=\"cp949\")"
   ]
  },
  {
   "cell_type": "code",
   "execution_count": 3,
   "metadata": {},
   "outputs": [],
   "source": [
    "def get_file_date(file_path):\n",
    "    file_name = os.path.basename(file_path)\n",
    "    date = re.findall(r\"\\d{8}|\\d{4}\", file_name)[-1]\n",
    "    if len(date) == 4:\n",
    "        return date + \"1231\"\n",
    "    elif len(date) == 8:\n",
    "        return date\n",
    "    else:\n",
    "        raise ValueError"
   ]
  },
  {
   "cell_type": "code",
   "execution_count": 4,
   "metadata": {},
   "outputs": [],
   "source": [
    "def format_df(df):\n",
    "    formatted_df = df.melt(\n",
    "        id_vars=[\"범죄대분류\", \"범죄중분류\"],\n",
    "        var_name=\"지역\",\n",
    "        value_name=\"Count\",\n",
    "    )\n",
    "    return formatted_df\n",
    "\n",
    "\n",
    "def append_column(df, column_name, column_value):\n",
    "    df[column_name] = column_value\n",
    "    return df\n",
    "\n",
    "append_date = lambda df, date: append_column(df, \"date\", date)\n",
    "preproc_data = lambda df, date: append_date(format_df(df), date)"
   ]
  },
  {
   "cell_type": "code",
   "execution_count": 5,
   "metadata": {},
   "outputs": [],
   "source": [
    "main_cols = [\n",
    "    \"범죄대분류\", \"범죄중분류\",\n",
    "    \n",
    "    \"서울\", \"부산\", \"대구\", \"인천\", \"광주\", \"대전\", \"울산\", \"세종\",\n",
    "    \n",
    "    \"기타도시\", \"도시이외\",\n",
    "    \n",
    "    \"경기 고양\", \"경기 과천\", \"경기 광명\", \"경기 광주\", \"경기 구리\", \"경기 군포\",\n",
    "    \"경기 김포\", \"경기 남양주\", \"경기 동두천\", \"경기 부천\", \"경기 성남\", \"경기 수원\",\n",
    "    \"경기 시흥\", \"경기 안산\", \"경기 안성\", \"경기 안양\", \"경기 양주\", \"경기 여주\",\n",
    "    \"경기 오산\", \"경기 용인\", \"경기 의왕\", \"경기 의정부\", \"경기 이천\", \"경기 파주\",\n",
    "    \"경기 평택\", \"경기 포천\", \"경기 하남\", \"경기 화성\",\n",
    "    \n",
    "    \"강원 강릉\", \"강원 동해\", \"강원 삼척\", \"강원 속초\", \"강원 원주\", \"강원 춘천\", \"강원 태백\",\n",
    "    \n",
    "    \"충북 제천\", \"충북 청주\", \"충북 충주\",\n",
    "    \n",
    "    \"충남 계룡\", \"충남 공주\", \"충남 논산\", \"충남 당진\", \"충남 보령\", \"충남 서산\",\n",
    "    \"충남 아산\", \"충남 천안\",\n",
    "    \n",
    "    \"전북 군산\", \"전북 김제\", \"전북 남원\", \"전북 익산\", \"전북 전주\", \"전북 정읍\",\n",
    "    \n",
    "    \"전남 광양\", \"전남 나주\", \"전남 목포\", \"전남 순천\", \"전남 여수\",\n",
    "    \n",
    "    \"경북 경산\", \"경북 경주\", \"경북 구미\", \"경북 김천\", \"경북 문경\", \"경북 상주\",\n",
    "    \"경북 안동\", \"경북 영주\", \"경북 영천\", \"경북 포항\",\n",
    "    \n",
    "    \"경남 거제\", \"경남 김해\", \"경남 밀양\", \"경남 사천\", \"경남 양산\", \"경남 진주\",\n",
    "    \"경남 창원\", \"경남 통영\",    \n",
    "    \n",
    "    \"제주 서귀포\", \"제주 제주\",\n",
    "]\n",
    "\n",
    "\n",
    "_mapper_마산 = lambda x : '경남 마산' if x == '마산' else  x\n",
    "\n",
    "def add_base(main_cols, col):\n",
    "    if col in main_cols:\n",
    "        return col\n",
    "    \n",
    "    exist_cols = [main_col for main_col in main_cols if main_col.endswith(col)]\n",
    "    \n",
    "    if len(exist_cols) == 1:\n",
    "        return exist_cols[0]\n",
    "    else:\n",
    "        return col\n",
    "\n",
    "_add_base = lambda col: add_base(main_cols, col)\n",
    "\n",
    "do_strip = lambda col: col.strip()\n",
    "\n",
    "preproc_columns = lambda cols: [_mapper_마산(_add_base(do_strip(col))) for col in cols]"
   ]
  },
  {
   "cell_type": "code",
   "execution_count": 6,
   "metadata": {},
   "outputs": [
    {
     "data": {
      "text/plain": [
       "['./data/raw_data/경찰청_범죄발생지_2012.csv',\n",
       " './data/raw_data/경찰청_범죄발생지_2013.csv',\n",
       " './data/raw_data/경찰청_범죄 발생 지역별 통계_20191231.csv',\n",
       " './data/raw_data/경찰청_범죄발생지_2014.csv',\n",
       " './data/raw_data/경찰청_범죄 발생 지역별 통계_20181231.csv',\n",
       " './data/raw_data/경찰청_범죄발생지_2017.csv',\n",
       " './data/raw_data/경찰청_범죄발생지_2016.csv',\n",
       " './data/raw_data/경찰청_범죄 발생 지역별 통계_20221231.csv',\n",
       " './data/raw_data/경찰청_범죄 발생 지역별 통계_20211231.csv',\n",
       " './data/raw_data/경찰청_범죄발생지_20151231.csv',\n",
       " './data/raw_data/경찰청_범죄 발생 지역별 통계_20201231.csv']"
      ]
     },
     "execution_count": 6,
     "metadata": {},
     "output_type": "execute_result"
    }
   ],
   "source": [
    "file_paths = glob(\"./data/raw_data/*.csv\")\n",
    "file_paths"
   ]
  },
  {
   "cell_type": "code",
   "execution_count": 7,
   "metadata": {},
   "outputs": [],
   "source": [
    "df_list = list()\n",
    "for file_path in file_paths:\n",
    "    df = read_csv(file_path)\n",
    "    df.columns = preproc_columns(df)\n",
    "    date = get_file_date(file_path)\n",
    "    preproc_data(df, date).to_csv(f\"./data/preproc_data/crime_{date[:4]}.csv\")"
   ]
  },
  {
   "cell_type": "code",
   "execution_count": null,
   "metadata": {},
   "outputs": [],
   "source": []
  }
 ],
 "metadata": {
  "kernelspec": {
   "display_name": "quant_trading",
   "language": "python",
   "name": "python3"
  },
  "language_info": {
   "codemirror_mode": {
    "name": "ipython",
    "version": 3
   },
   "file_extension": ".py",
   "mimetype": "text/x-python",
   "name": "python",
   "nbconvert_exporter": "python",
   "pygments_lexer": "ipython3",
   "version": "3.10.13"
  }
 },
 "nbformat": 4,
 "nbformat_minor": 2
}
