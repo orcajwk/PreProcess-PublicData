{
 "cells": [
  {
   "cell_type": "code",
   "execution_count": null,
   "metadata": {},
   "outputs": [],
   "source": [
    "from functools import reduce, partial\n",
    "from glob import glob\n",
    "from collections import Counter\n",
    "\n",
    "import pandas as pd\n",
    "import dill"
   ]
  },
  {
   "cell_type": "code",
   "execution_count": null,
   "metadata": {},
   "outputs": [],
   "source": [
    "with open('./read_csv.pkl', 'rb') as f:\n",
    "    read_csv = dill.load(f)"
   ]
  },
  {
   "cell_type": "code",
   "execution_count": null,
   "metadata": {},
   "outputs": [],
   "source": [
    "# RawFiles\n",
    "file_paths = glob(\"./data/raw_data/*.csv\")\n",
    "file_paths"
   ]
  },
  {
   "cell_type": "code",
   "execution_count": null,
   "metadata": {},
   "outputs": [],
   "source": [
    "file_column_dict = dict()\n",
    "for file_path in file_paths:\n",
    "    df = read_csv(file_path)\n",
    "    file_column_dict[file_path] = df.columns"
   ]
  },
  {
   "cell_type": "code",
   "execution_count": null,
   "metadata": {},
   "outputs": [],
   "source": [
    "columns_list = [list(columns) for columns in file_column_dict.values()]"
   ]
  },
  {
   "cell_type": "code",
   "execution_count": null,
   "metadata": {},
   "outputs": [],
   "source": [
    "all_columns = sum(columns_list, [])"
   ]
  },
  {
   "cell_type": "code",
   "execution_count": null,
   "metadata": {},
   "outputs": [],
   "source": [
    "Counter(all_columns)"
   ]
  },
  {
   "cell_type": "code",
   "execution_count": null,
   "metadata": {},
   "outputs": [],
   "source": [
    "def do_strip(col):\n",
    "    return col.strip()\n",
    "\n",
    "\n",
    "Counter(map(do_strip, all_columns))"
   ]
  },
  {
   "cell_type": "code",
   "execution_count": null,
   "metadata": {},
   "outputs": [],
   "source": [
    "def composer(*funcs):\n",
    "    return reduce(lambda f, g: lambda x: g(f(x)), funcs)\n",
    "\n",
    "\n",
    "def do_strip(col):\n",
    "    return col.strip()\n",
    "\n",
    "\n",
    "def change_masan(col):\n",
    "    if col == '마산':\n",
    "        return '경남 마산'\n",
    "    return col\n",
    "\n",
    "\n",
    "preproc = composer(do_strip, change_masan)\n",
    "\n",
    "Counter(map(preproc, all_columns))"
   ]
  },
  {
   "cell_type": "code",
   "execution_count": null,
   "metadata": {},
   "outputs": [],
   "source": [
    "column_counter = Counter(map(preproc, all_columns))\n",
    "main_cols = list(filter(lambda x: 7 <= column_counter[x], column_counter))\n",
    "main_cols"
   ]
  },
  {
   "cell_type": "code",
   "execution_count": null,
   "metadata": {},
   "outputs": [],
   "source": [
    "def composer(*funcs):\n",
    "    return reduce(lambda f, g: lambda x: g(f(x)), funcs)\n",
    "\n",
    "\n",
    "def do_strip(col):\n",
    "    return col.strip()\n",
    "\n",
    "\n",
    "def change_masan(col):\n",
    "    if col == '마산':\n",
    "        return '경남 마산'\n",
    "    return col\n",
    "\n",
    "\n",
    "def add_base(col, main_cols):\n",
    "    if col in main_cols:\n",
    "        return col\n",
    "\n",
    "    exist_cols = [main_col for main_col in main_cols if main_col.endswith(col)]\n",
    "\n",
    "    if len(exist_cols) == 1:\n",
    "        return exist_cols[0]\n",
    "    else:\n",
    "        return col\n",
    "\n",
    "\n",
    "add_base_with_main_cols = partial(add_base, main_cols=main_cols)\n",
    "preproc = composer(do_strip, change_masan, add_base_with_main_cols)\n",
    "Counter(map(preproc, all_columns))"
   ]
  },
  {
   "cell_type": "code",
   "execution_count": null,
   "metadata": {},
   "outputs": [],
   "source": [
    "with open(\"./preproc_cols.pkl\", 'wb') as f:\n",
    "    dill.dump(preproc, f)"
   ]
  }
 ],
 "metadata": {
  "kernelspec": {
   "display_name": "quant_trading",
   "language": "python",
   "name": "python3"
  },
  "language_info": {
   "codemirror_mode": {
    "name": "ipython",
    "version": 3
   },
   "file_extension": ".py",
   "mimetype": "text/x-python",
   "name": "python",
   "nbconvert_exporter": "python",
   "pygments_lexer": "ipython3",
   "version": "3.10.13"
  }
 },
 "nbformat": 4,
 "nbformat_minor": 2
}
