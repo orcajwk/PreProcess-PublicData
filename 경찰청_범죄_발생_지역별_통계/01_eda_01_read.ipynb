{
 "cells": [
  {
   "cell_type": "code",
   "execution_count": null,
   "metadata": {},
   "outputs": [],
   "source": [
    "from glob import glob\n",
    "\n",
    "import pandas as pd"
   ]
  },
  {
   "cell_type": "code",
   "execution_count": null,
   "metadata": {},
   "outputs": [],
   "source": [
    "# RawFiles\n",
    "file_paths = glob(\"./data/raw_data/*.csv\")\n",
    "file_paths"
   ]
  },
  {
   "cell_type": "code",
   "execution_count": null,
   "metadata": {},
   "outputs": [],
   "source": [
    "file_shape_dict = dict()\n",
    "for file_path in file_paths:\n",
    "    df = pd.read_csv(file_path)\n",
    "    file_shape_dict[file_path] = df.shape"
   ]
  },
  {
   "cell_type": "code",
   "execution_count": null,
   "metadata": {},
   "outputs": [],
   "source": [
    "file_shape_dict = dict()\n",
    "for file_path in file_paths:\n",
    "    df = pd.read_csv(file_path,encoding='cp949')\n",
    "    file_shape_dict[file_path] = df.shape"
   ]
  },
  {
   "cell_type": "code",
   "execution_count": null,
   "metadata": {},
   "outputs": [],
   "source": [
    "from pprint import pprint\n",
    "pprint(file_shape_dict)"
   ]
  },
  {
   "cell_type": "code",
   "execution_count": null,
   "metadata": {},
   "outputs": [],
   "source": [
    "import dill\n",
    "\n",
    "\n",
    "def read_csv(file_path):\n",
    "    df = pd.read_csv(file_path, encoding='cp949')\n",
    "    return df\n",
    "\n",
    "\n",
    "with open(\"./read_csv.pkl\", 'wb') as f:\n",
    "    dill.dump(read_csv, f)"
   ]
  },
  {
   "cell_type": "code",
   "execution_count": null,
   "metadata": {},
   "outputs": [],
   "source": []
  }
 ],
 "metadata": {
  "kernelspec": {
   "display_name": "quant_trading",
   "language": "python",
   "name": "python3"
  },
  "language_info": {
   "codemirror_mode": {
    "name": "ipython",
    "version": 3
   },
   "file_extension": ".py",
   "mimetype": "text/x-python",
   "name": "python",
   "nbconvert_exporter": "python",
   "pygments_lexer": "ipython3",
   "version": "3.10.13"
  }
 },
 "nbformat": 4,
 "nbformat_minor": 2
}
